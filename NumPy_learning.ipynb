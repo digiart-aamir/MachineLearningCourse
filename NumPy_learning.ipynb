{
 "cells": [
  {
   "cell_type": "markdown",
   "id": "1a2526d5",
   "metadata": {},
   "source": [
    "# NumPy\n",
    "![img](ML.png)"
   ]
  },
  {
   "cell_type": "code",
   "execution_count": 2,
   "id": "fd28dab5",
   "metadata": {},
   "outputs": [],
   "source": [
    "import numpy as np"
   ]
  },
  {
   "cell_type": "markdown",
   "id": "0ccbfe82",
   "metadata": {},
   "source": [
    "# 1. Datatypes and Attributes"
   ]
  },
  {
   "cell_type": "code",
   "execution_count": 3,
   "id": "32a33489",
   "metadata": {},
   "outputs": [
    {
     "data": {
      "text/plain": [
       "array([1, 2, 3, 4, 5, 6])"
      ]
     },
     "execution_count": 3,
     "metadata": {},
     "output_type": "execute_result"
    }
   ],
   "source": [
    "a1 = np.array([1,2,3,4,5,6])\n",
    "a1"
   ]
  },
  {
   "cell_type": "code",
   "execution_count": 4,
   "id": "1a85cf09",
   "metadata": {},
   "outputs": [
    {
     "data": {
      "text/plain": [
       "numpy.ndarray"
      ]
     },
     "execution_count": 4,
     "metadata": {},
     "output_type": "execute_result"
    }
   ],
   "source": [
    "type(a1)"
   ]
  },
  {
   "cell_type": "code",
   "execution_count": 5,
   "id": "7a85d0a9",
   "metadata": {},
   "outputs": [
    {
     "data": {
      "text/plain": [
       "array([[1, 2, 3, 4],\n",
       "       [5, 6, 7, 8]])"
      ]
     },
     "execution_count": 5,
     "metadata": {},
     "output_type": "execute_result"
    }
   ],
   "source": [
    "a2 = np.array([[1,2,3,4],[5,6,7,8]])\n",
    "a2"
   ]
  },
  {
   "cell_type": "code",
   "execution_count": 6,
   "id": "9254124d",
   "metadata": {},
   "outputs": [
    {
     "data": {
      "text/plain": [
       "array([[1. , 2.4, 6. ],\n",
       "       [1.4, 4.3, 8.5],\n",
       "       [1. , 6. , 6.6]])"
      ]
     },
     "execution_count": 6,
     "metadata": {},
     "output_type": "execute_result"
    }
   ],
   "source": [
    "a3 = np.array([[1,2.4,6],\n",
    "               [1.4,4.3,8.5],\n",
    "               [1,6,6.6]]);\n",
    "a3"
   ]
  },
  {
   "cell_type": "code",
   "execution_count": 7,
   "id": "57ab3911",
   "metadata": {},
   "outputs": [
    {
     "data": {
      "text/plain": [
       "array([[[1, 2, 3],\n",
       "        [2, 4, 5],\n",
       "        [2, 7, 8]],\n",
       "\n",
       "       [[3, 5, 4],\n",
       "        [4, 3, 2],\n",
       "        [3, 6, 3]],\n",
       "\n",
       "       [[3, 3, 4],\n",
       "        [0, 7, 8],\n",
       "        [9, 8, 9]]])"
      ]
     },
     "execution_count": 7,
     "metadata": {},
     "output_type": "execute_result"
    }
   ],
   "source": [
    "a4 = np.array([ [[1,2,3],[2,4,5],[2,7,8]],\n",
    "                [[3,5,4],[4,3,2],[3,6,3]],\n",
    "                [[3,3,4],[0,7,8],[9,8,9]] ])\n",
    "a4"
   ]
  },
  {
   "cell_type": "code",
   "execution_count": 12,
   "id": "59bafe58",
   "metadata": {},
   "outputs": [
    {
     "data": {
      "text/plain": [
       "(3, 3, 3)"
      ]
     },
     "execution_count": 12,
     "metadata": {},
     "output_type": "execute_result"
    }
   ],
   "source": [
    "a4.shape"
   ]
  },
  {
   "cell_type": "code",
   "execution_count": 11,
   "id": "9f470f8e",
   "metadata": {},
   "outputs": [
    {
     "data": {
      "text/plain": [
       "(1, 2, 2, 3)"
      ]
     },
     "execution_count": 11,
     "metadata": {},
     "output_type": "execute_result"
    }
   ],
   "source": [
    "a1.ndim, a2.ndim, a3.ndim, a4.ndim"
   ]
  },
  {
   "cell_type": "code",
   "execution_count": 13,
   "id": "51913f71",
   "metadata": {},
   "outputs": [
    {
     "data": {
      "text/plain": [
       "(dtype('int32'), dtype('int32'), dtype('float64'))"
      ]
     },
     "execution_count": 13,
     "metadata": {},
     "output_type": "execute_result"
    }
   ],
   "source": [
    "a1.dtype, a2.dtype, a3.dtype"
   ]
  },
  {
   "cell_type": "code",
   "execution_count": 14,
   "id": "28deef7d",
   "metadata": {},
   "outputs": [
    {
     "data": {
      "text/plain": [
       "(6, 8, 9, 27)"
      ]
     },
     "execution_count": 14,
     "metadata": {},
     "output_type": "execute_result"
    }
   ],
   "source": [
    "a1.size, a2.size, a3.size, a4.size"
   ]
  },
  {
   "cell_type": "code",
   "execution_count": 15,
   "id": "b9a9e62e",
   "metadata": {},
   "outputs": [
    {
     "data": {
      "text/plain": [
       "(numpy.ndarray, numpy.ndarray)"
      ]
     },
     "execution_count": 15,
     "metadata": {},
     "output_type": "execute_result"
    }
   ],
   "source": [
    "type(a1), type(a4)"
   ]
  },
  {
   "cell_type": "code",
   "execution_count": 21,
   "id": "6ed6ca26",
   "metadata": {},
   "outputs": [
    {
     "data": {
      "text/html": [
       "<div>\n",
       "<style scoped>\n",
       "    .dataframe tbody tr th:only-of-type {\n",
       "        vertical-align: middle;\n",
       "    }\n",
       "\n",
       "    .dataframe tbody tr th {\n",
       "        vertical-align: top;\n",
       "    }\n",
       "\n",
       "    .dataframe thead th {\n",
       "        text-align: right;\n",
       "    }\n",
       "</style>\n",
       "<table border=\"1\" class=\"dataframe\">\n",
       "  <thead>\n",
       "    <tr style=\"text-align: right;\">\n",
       "      <th></th>\n",
       "      <th>0</th>\n",
       "      <th>1</th>\n",
       "      <th>2</th>\n",
       "    </tr>\n",
       "  </thead>\n",
       "  <tbody>\n",
       "    <tr>\n",
       "      <th>0</th>\n",
       "      <td>1.0</td>\n",
       "      <td>2.4</td>\n",
       "      <td>6.0</td>\n",
       "    </tr>\n",
       "    <tr>\n",
       "      <th>1</th>\n",
       "      <td>1.4</td>\n",
       "      <td>4.3</td>\n",
       "      <td>8.5</td>\n",
       "    </tr>\n",
       "    <tr>\n",
       "      <th>2</th>\n",
       "      <td>1.0</td>\n",
       "      <td>6.0</td>\n",
       "      <td>6.6</td>\n",
       "    </tr>\n",
       "  </tbody>\n",
       "</table>\n",
       "</div>"
      ],
      "text/plain": [
       "     0    1    2\n",
       "0  1.0  2.4  6.0\n",
       "1  1.4  4.3  8.5\n",
       "2  1.0  6.0  6.6"
      ]
     },
     "execution_count": 21,
     "metadata": {},
     "output_type": "execute_result"
    }
   ],
   "source": [
    "#panda dataframe from array \n",
    "import pandas as pd\n",
    "    \n",
    "df = pd.DataFrame(a3)\n",
    "df"
   ]
  },
  {
   "cell_type": "markdown",
   "id": "c65261d9",
   "metadata": {},
   "source": [
    "# 2. creating numpy array"
   ]
  },
  {
   "cell_type": "code",
   "execution_count": 23,
   "id": "d1375b7e",
   "metadata": {},
   "outputs": [
    {
     "data": {
      "text/plain": [
       "array([ 2,  4, 65,  5])"
      ]
     },
     "execution_count": 23,
     "metadata": {},
     "output_type": "execute_result"
    }
   ],
   "source": [
    "array1= np.array([2,4,65,5])\n",
    "array1"
   ]
  },
  {
   "cell_type": "code",
   "execution_count": 25,
   "id": "758171d4",
   "metadata": {},
   "outputs": [
    {
     "data": {
      "text/plain": [
       "array([[1., 1., 1., 1.],\n",
       "       [1., 1., 1., 1.]])"
      ]
     },
     "execution_count": 25,
     "metadata": {},
     "output_type": "execute_result"
    }
   ],
   "source": [
    "ones = np.ones((2,4))\n",
    "ones"
   ]
  },
  {
   "cell_type": "code",
   "execution_count": 27,
   "id": "7f0ddcb2",
   "metadata": {},
   "outputs": [
    {
     "data": {
      "text/plain": [
       "array([[[0., 0., 0.],\n",
       "        [0., 0., 0.],\n",
       "        [0., 0., 0.]],\n",
       "\n",
       "       [[0., 0., 0.],\n",
       "        [0., 0., 0.],\n",
       "        [0., 0., 0.]],\n",
       "\n",
       "       [[0., 0., 0.],\n",
       "        [0., 0., 0.],\n",
       "        [0., 0., 0.]]])"
      ]
     },
     "execution_count": 27,
     "metadata": {},
     "output_type": "execute_result"
    }
   ],
   "source": [
    "zeros = np.zeros((3,3,3))\n",
    "zeros"
   ]
  },
  {
   "cell_type": "code",
   "execution_count": 29,
   "id": "2c7c2dfd",
   "metadata": {},
   "outputs": [
    {
     "data": {
      "text/plain": [
       "array([0, 1, 2, 3, 4, 5, 6, 7, 8, 9])"
      ]
     },
     "execution_count": 29,
     "metadata": {},
     "output_type": "execute_result"
    }
   ],
   "source": [
    "range_array= np.arange(0,10,1,int)\n",
    "range_array "
   ]
  },
  {
   "cell_type": "code",
   "execution_count": 34,
   "id": "94e7b495",
   "metadata": {},
   "outputs": [
    {
     "data": {
      "text/plain": [
       "array([[[4, 3, 1, 5, 6, 1, 7, 7],\n",
       "        [3, 8, 0, 1, 6, 8, 0, 7],\n",
       "        [6, 2, 1, 9, 0, 5, 6, 2],\n",
       "        [7, 1, 5, 2, 9, 7, 9, 3]],\n",
       "\n",
       "       [[7, 3, 7, 7, 1, 9, 8, 5],\n",
       "        [7, 3, 3, 9, 6, 0, 2, 1],\n",
       "        [0, 2, 5, 2, 8, 5, 5, 4],\n",
       "        [2, 7, 0, 3, 6, 8, 0, 4]]])"
      ]
     },
     "execution_count": 34,
     "metadata": {},
     "output_type": "execute_result"
    }
   ],
   "source": [
    "random_array= np.random.randint(0,10,size=(2,4,8))\n",
    "random_array"
   ]
  },
  {
   "cell_type": "code",
   "execution_count": 38,
   "id": "b77eb8e4",
   "metadata": {},
   "outputs": [
    {
     "data": {
      "text/plain": [
       "array([[0.64922191, 0.32338984, 0.8089512 ],\n",
       "       [0.33295144, 0.45351682, 0.12626516],\n",
       "       [0.25738505, 0.2156598 , 0.41588259]])"
      ]
     },
     "execution_count": 38,
     "metadata": {},
     "output_type": "execute_result"
    }
   ],
   "source": [
    "random_array_2 = np.random.random((3,3))\n",
    "random_array_2"
   ]
  },
  {
   "cell_type": "code",
   "execution_count": 40,
   "id": "bbdb0e15",
   "metadata": {},
   "outputs": [
    {
     "data": {
      "text/plain": [
       "array([[[1, 0, 1, 0],\n",
       "        [0, 1, 0, 0],\n",
       "        [0, 0, 0, 0],\n",
       "        [0, 0, 1, 0]],\n",
       "\n",
       "       [[1, 0, 1, 1],\n",
       "        [0, 0, 1, 0],\n",
       "        [1, 0, 1, 1],\n",
       "        [0, 1, 1, 0]]])"
      ]
     },
     "execution_count": 40,
     "metadata": {},
     "output_type": "execute_result"
    }
   ],
   "source": [
    "# try again for random\n",
    "rand1 = np.random.randint(0,2,size=(2,4,4))\n",
    "rand1"
   ]
  },
  {
   "cell_type": "code",
   "execution_count": 43,
   "id": "82902ce7",
   "metadata": {},
   "outputs": [
    {
     "data": {
      "text/plain": [
       "array([[0.84412493, 0.19164278, 0.21576202],\n",
       "       [0.37591241, 0.72427764, 0.28121364],\n",
       "       [0.91479103, 0.85314583, 0.23743545]])"
      ]
     },
     "execution_count": 43,
     "metadata": {},
     "output_type": "execute_result"
    }
   ],
   "source": [
    "rand2 = np.random.random((3,3))\n",
    "rand2"
   ]
  },
  {
   "cell_type": "code",
   "execution_count": 55,
   "id": "de096b15",
   "metadata": {},
   "outputs": [
    {
     "data": {
      "text/plain": [
       "array([[5, 0, 3, 3],\n",
       "       [7, 9, 3, 5],\n",
       "       [2, 4, 7, 6],\n",
       "       [8, 8, 1, 6],\n",
       "       [7, 7, 8, 1]])"
      ]
     },
     "execution_count": 55,
     "metadata": {},
     "output_type": "execute_result"
    }
   ],
   "source": [
    "np.random.seed(0)\n",
    "random_array_4 = np.random.randint(10,size=(5,4))\n",
    "random_array_4"
   ]
  },
  {
   "cell_type": "code",
   "execution_count": 58,
   "id": "cb620e5a",
   "metadata": {},
   "outputs": [
    {
     "data": {
      "text/plain": [
       "array([[[1, 1, 1],\n",
       "        [1, 1, 1],\n",
       "        [1, 1, 1]],\n",
       "\n",
       "       [[1, 1, 1],\n",
       "        [1, 1, 1],\n",
       "        [1, 1, 1]],\n",
       "\n",
       "       [[1, 1, 1],\n",
       "        [1, 1, 1],\n",
       "        [1, 1, 1]]])"
      ]
     },
     "execution_count": 58,
     "metadata": {},
     "output_type": "execute_result"
    }
   ],
   "source": [
    "test = np.ones((3,3,3),int)\n",
    "test"
   ]
  },
  {
   "cell_type": "markdown",
   "id": "f7aa549c",
   "metadata": {},
   "source": [
    "# 3. viewing array and matrices"
   ]
  },
  {
   "cell_type": "code",
   "execution_count": 63,
   "id": "bfff3ed8",
   "metadata": {},
   "outputs": [
    {
     "data": {
      "text/plain": [
       "array([0, 1, 2, 3, 4, 5, 6, 7, 8, 9])"
      ]
     },
     "execution_count": 63,
     "metadata": {},
     "output_type": "execute_result"
    }
   ],
   "source": [
    "np.unique(random_array_4)"
   ]
  },
  {
   "cell_type": "code",
   "execution_count": 64,
   "id": "78827bc7",
   "metadata": {},
   "outputs": [
    {
     "data": {
      "text/plain": [
       "4"
      ]
     },
     "execution_count": 64,
     "metadata": {},
     "output_type": "execute_result"
    }
   ],
   "source": [
    "a1[3]"
   ]
  },
  {
   "cell_type": "code",
   "execution_count": 66,
   "id": "1ba0c359",
   "metadata": {},
   "outputs": [
    {
     "data": {
      "text/plain": [
       "array([5, 6, 7, 8])"
      ]
     },
     "execution_count": 66,
     "metadata": {},
     "output_type": "execute_result"
    }
   ],
   "source": [
    "a2[1]"
   ]
  },
  {
   "cell_type": "code",
   "execution_count": 67,
   "id": "60f96457",
   "metadata": {},
   "outputs": [
    {
     "data": {
      "text/plain": [
       "array([1. , 2.4, 6. ])"
      ]
     },
     "execution_count": 67,
     "metadata": {},
     "output_type": "execute_result"
    }
   ],
   "source": [
    "a3[0]"
   ]
  },
  {
   "cell_type": "code",
   "execution_count": 72,
   "id": "11d1b49c",
   "metadata": {},
   "outputs": [
    {
     "data": {
      "text/plain": [
       "array([[[1, 2, 3],\n",
       "        [2, 4, 5],\n",
       "        [2, 7, 8]],\n",
       "\n",
       "       [[3, 5, 4],\n",
       "        [4, 3, 2],\n",
       "        [3, 6, 3]]])"
      ]
     },
     "execution_count": 72,
     "metadata": {},
     "output_type": "execute_result"
    }
   ],
   "source": [
    "a4[:2]"
   ]
  },
  {
   "cell_type": "code",
   "execution_count": 77,
   "id": "cd7d67f2",
   "metadata": {},
   "outputs": [
    {
     "data": {
      "text/plain": [
       "array([[[[9, 1, 0, 0, 5],\n",
       "         [6, 3, 6, 1, 7],\n",
       "         [7, 0, 7, 6, 0],\n",
       "         [4, 2, 7, 5, 2]],\n",
       "\n",
       "        [[8, 5, 6, 6, 4],\n",
       "         [1, 5, 4, 5, 5],\n",
       "         [6, 3, 8, 1, 4],\n",
       "         [2, 9, 7, 4, 1]],\n",
       "\n",
       "        [[8, 2, 3, 3, 4],\n",
       "         [1, 6, 2, 5, 4],\n",
       "         [9, 1, 5, 9, 4],\n",
       "         [5, 7, 4, 4, 2]]],\n",
       "\n",
       "\n",
       "       [[[2, 1, 3, 0, 1],\n",
       "         [9, 1, 6, 9, 8],\n",
       "         [6, 3, 0, 7, 3],\n",
       "         [2, 5, 9, 7, 3]],\n",
       "\n",
       "        [[4, 7, 6, 7, 3],\n",
       "         [6, 9, 3, 7, 1],\n",
       "         [3, 7, 8, 8, 4],\n",
       "         [5, 3, 6, 9, 6]],\n",
       "\n",
       "        [[2, 9, 3, 5, 7],\n",
       "         [9, 0, 7, 1, 2],\n",
       "         [5, 0, 5, 8, 9],\n",
       "         [8, 2, 5, 3, 1]]]])"
      ]
     },
     "execution_count": 77,
     "metadata": {},
     "output_type": "execute_result"
    }
   ],
   "source": [
    "a5= np.random.randint(10,size=(2,3,4,5))\n",
    "a5"
   ]
  },
  {
   "cell_type": "code",
   "execution_count": 78,
   "id": "291cb87c",
   "metadata": {},
   "outputs": [
    {
     "data": {
      "text/plain": [
       "((2, 3, 4, 5), 4)"
      ]
     },
     "execution_count": 78,
     "metadata": {},
     "output_type": "execute_result"
    }
   ],
   "source": [
    "a5.shape, a5.ndim"
   ]
  },
  {
   "cell_type": "code",
   "execution_count": 84,
   "id": "d1ec8218",
   "metadata": {},
   "outputs": [
    {
     "data": {
      "text/plain": [
       "array([[[[9, 1, 0, 0],\n",
       "         [6, 3, 6, 1],\n",
       "         [7, 0, 7, 6],\n",
       "         [4, 2, 7, 5]],\n",
       "\n",
       "        [[8, 5, 6, 6],\n",
       "         [1, 5, 4, 5],\n",
       "         [6, 3, 8, 1],\n",
       "         [2, 9, 7, 4]],\n",
       "\n",
       "        [[8, 2, 3, 3],\n",
       "         [1, 6, 2, 5],\n",
       "         [9, 1, 5, 9],\n",
       "         [5, 7, 4, 4]]],\n",
       "\n",
       "\n",
       "       [[[2, 1, 3, 0],\n",
       "         [9, 1, 6, 9],\n",
       "         [6, 3, 0, 7],\n",
       "         [2, 5, 9, 7]],\n",
       "\n",
       "        [[4, 7, 6, 7],\n",
       "         [6, 9, 3, 7],\n",
       "         [3, 7, 8, 8],\n",
       "         [5, 3, 6, 9]],\n",
       "\n",
       "        [[2, 9, 3, 5],\n",
       "         [9, 0, 7, 1],\n",
       "         [5, 0, 5, 8],\n",
       "         [8, 2, 5, 3]]]])"
      ]
     },
     "execution_count": 84,
     "metadata": {},
     "output_type": "execute_result"
    }
   ],
   "source": [
    " a5[:,:, :, :4]"
   ]
  },
  {
   "cell_type": "markdown",
   "id": "8a727cbe",
   "metadata": {},
   "source": [
    "# 4. Manipulation of array in numpy "
   ]
  },
  {
   "cell_type": "markdown",
   "id": "e8b867c0",
   "metadata": {},
   "source": [
    "### Arthmetic "
   ]
  },
  {
   "cell_type": "code",
   "execution_count": 102,
   "id": "3711ae40",
   "metadata": {},
   "outputs": [],
   "source": [
    "a1 = [1,2,3,4]"
   ]
  },
  {
   "cell_type": "code",
   "execution_count": 103,
   "id": "e8b9bfcd",
   "metadata": {},
   "outputs": [
    {
     "data": {
      "text/plain": [
       "array([1, 1, 1, 1])"
      ]
     },
     "execution_count": 103,
     "metadata": {},
     "output_type": "execute_result"
    }
   ],
   "source": [
    "a11= np.ones(4,int)\n",
    "a11"
   ]
  },
  {
   "cell_type": "code",
   "execution_count": 104,
   "id": "2b9ffa82",
   "metadata": {},
   "outputs": [
    {
     "data": {
      "text/plain": [
       "array([2, 3, 4, 5])"
      ]
     },
     "execution_count": 104,
     "metadata": {},
     "output_type": "execute_result"
    }
   ],
   "source": [
    "a1+a11"
   ]
  },
  {
   "cell_type": "code",
   "execution_count": 105,
   "id": "f6f67931",
   "metadata": {},
   "outputs": [
    {
     "data": {
      "text/plain": [
       "array([0, 1, 2, 3])"
      ]
     },
     "execution_count": 105,
     "metadata": {},
     "output_type": "execute_result"
    }
   ],
   "source": [
    "a1-a11"
   ]
  },
  {
   "cell_type": "code",
   "execution_count": 106,
   "id": "b10441b9",
   "metadata": {},
   "outputs": [
    {
     "data": {
      "text/plain": [
       "array([1, 2, 3, 4])"
      ]
     },
     "execution_count": 106,
     "metadata": {},
     "output_type": "execute_result"
    }
   ],
   "source": [
    "a1*a11"
   ]
  },
  {
   "cell_type": "code",
   "execution_count": 107,
   "id": "628cc4d0",
   "metadata": {},
   "outputs": [
    {
     "data": {
      "text/plain": [
       "array([[1, 2, 3, 4],\n",
       "       [5, 6, 7, 8]])"
      ]
     },
     "execution_count": 107,
     "metadata": {},
     "output_type": "execute_result"
    }
   ],
   "source": [
    "a2"
   ]
  },
  {
   "cell_type": "code",
   "execution_count": 108,
   "id": "4a87ad84",
   "metadata": {},
   "outputs": [
    {
     "data": {
      "text/plain": [
       "[1, 2, 3, 4]"
      ]
     },
     "execution_count": 108,
     "metadata": {},
     "output_type": "execute_result"
    }
   ],
   "source": [
    "a1"
   ]
  },
  {
   "cell_type": "code",
   "execution_count": 110,
   "id": "78c10bea",
   "metadata": {},
   "outputs": [
    {
     "data": {
      "text/plain": [
       "array([[ 1,  4,  9, 16],\n",
       "       [ 5, 12, 21, 32]])"
      ]
     },
     "execution_count": 110,
     "metadata": {},
     "output_type": "execute_result"
    }
   ],
   "source": [
    "a1 * a2"
   ]
  },
  {
   "cell_type": "code",
   "execution_count": 113,
   "id": "7e3bd1be",
   "metadata": {},
   "outputs": [
    {
     "data": {
      "text/plain": [
       "array([[[1, 2, 3],\n",
       "        [2, 4, 5],\n",
       "        [2, 7, 8]],\n",
       "\n",
       "       [[3, 5, 4],\n",
       "        [4, 3, 2],\n",
       "        [3, 6, 3]],\n",
       "\n",
       "       [[3, 3, 4],\n",
       "        [0, 7, 8],\n",
       "        [9, 8, 9]]])"
      ]
     },
     "execution_count": 113,
     "metadata": {},
     "output_type": "execute_result"
    }
   ],
   "source": [
    "a4"
   ]
  },
  {
   "cell_type": "code",
   "execution_count": 114,
   "id": "fe23b3b4",
   "metadata": {},
   "outputs": [
    {
     "data": {
      "text/plain": [
       "array([[[ 1. ,  4.8, 18. ],\n",
       "        [ 2.8, 17.2, 42.5],\n",
       "        [ 2. , 42. , 52.8]],\n",
       "\n",
       "       [[ 3. , 12. , 24. ],\n",
       "        [ 5.6, 12.9, 17. ],\n",
       "        [ 3. , 36. , 19.8]],\n",
       "\n",
       "       [[ 3. ,  7.2, 24. ],\n",
       "        [ 0. , 30.1, 68. ],\n",
       "        [ 9. , 48. , 59.4]]])"
      ]
     },
     "execution_count": 114,
     "metadata": {},
     "output_type": "execute_result"
    }
   ],
   "source": [
    "a4*a3"
   ]
  },
  {
   "cell_type": "code",
   "execution_count": 115,
   "id": "a22781b0",
   "metadata": {},
   "outputs": [
    {
     "data": {
      "text/plain": [
       "[1, 2, 3, 4]"
      ]
     },
     "execution_count": 115,
     "metadata": {},
     "output_type": "execute_result"
    }
   ],
   "source": [
    "a1"
   ]
  },
  {
   "cell_type": "code",
   "execution_count": 116,
   "id": "106eecdb",
   "metadata": {},
   "outputs": [
    {
     "data": {
      "text/plain": [
       "4"
      ]
     },
     "execution_count": 116,
     "metadata": {},
     "output_type": "execute_result"
    }
   ],
   "source": [
    "a1[3]"
   ]
  },
  {
   "cell_type": "code",
   "execution_count": 119,
   "id": "bb8e228e",
   "metadata": {},
   "outputs": [],
   "source": [
    "a1[3]=9"
   ]
  },
  {
   "cell_type": "code",
   "execution_count": 120,
   "id": "356998c8",
   "metadata": {},
   "outputs": [
    {
     "data": {
      "text/plain": [
       "[1, 2, 3, 9]"
      ]
     },
     "execution_count": 120,
     "metadata": {},
     "output_type": "execute_result"
    }
   ],
   "source": [
    "a1"
   ]
  },
  {
   "cell_type": "code",
   "execution_count": 121,
   "id": "582ce960",
   "metadata": {},
   "outputs": [
    {
     "data": {
      "text/plain": [
       "array([[1. , 2.4, 6. ],\n",
       "       [1.4, 4.3, 8.5],\n",
       "       [1. , 6. , 6.6]])"
      ]
     },
     "execution_count": 121,
     "metadata": {},
     "output_type": "execute_result"
    }
   ],
   "source": [
    "a3"
   ]
  },
  {
   "cell_type": "code",
   "execution_count": 126,
   "id": "9a08f6d4",
   "metadata": {},
   "outputs": [
    {
     "data": {
      "text/plain": [
       "array([[ 1,  4,  9, 16],\n",
       "       [25, 36, 49, 64]])"
      ]
     },
     "execution_count": 126,
     "metadata": {},
     "output_type": "execute_result"
    }
   ],
   "source": [
    "a2**2"
   ]
  },
  {
   "cell_type": "code",
   "execution_count": 128,
   "id": "31963243",
   "metadata": {},
   "outputs": [
    {
     "data": {
      "text/plain": [
       "array([ 1,  4,  9, 81])"
      ]
     },
     "execution_count": 128,
     "metadata": {},
     "output_type": "execute_result"
    }
   ],
   "source": [
    "np.square(a1)"
   ]
  },
  {
   "cell_type": "code",
   "execution_count": 129,
   "id": "60d2eef6",
   "metadata": {},
   "outputs": [
    {
     "data": {
      "text/plain": [
       "array([ 2,  3,  4, 10])"
      ]
     },
     "execution_count": 129,
     "metadata": {},
     "output_type": "execute_result"
    }
   ],
   "source": [
    "np.add(a1,a11)"
   ]
  },
  {
   "cell_type": "markdown",
   "id": "52e52df2",
   "metadata": {},
   "source": [
    "### Aggregatrion"
   ]
  },
  {
   "cell_type": "code",
   "execution_count": 130,
   "id": "b81aeea2",
   "metadata": {},
   "outputs": [
    {
     "data": {
      "text/plain": [
       "[1, 2, 3, 9]"
      ]
     },
     "execution_count": 130,
     "metadata": {},
     "output_type": "execute_result"
    }
   ],
   "source": [
    "a1"
   ]
  },
  {
   "cell_type": "code",
   "execution_count": 131,
   "id": "95645249",
   "metadata": {},
   "outputs": [
    {
     "data": {
      "text/plain": [
       "15"
      ]
     },
     "execution_count": 131,
     "metadata": {},
     "output_type": "execute_result"
    }
   ],
   "source": [
    "np.sum(a1)"
   ]
  },
  {
   "cell_type": "code",
   "execution_count": 139,
   "id": "be8565b0",
   "metadata": {},
   "outputs": [],
   "source": [
    "massive_array = np.random.random(1000000)"
   ]
  },
  {
   "cell_type": "code",
   "execution_count": 140,
   "id": "232bb8b6",
   "metadata": {},
   "outputs": [
    {
     "data": {
      "text/plain": [
       "array([0.63197855, 0.62237275, 0.6648253 , 0.38522221, 0.29690492,\n",
       "       0.0599581 , 0.13130333, 0.26387259, 0.23666733, 0.34776988])"
      ]
     },
     "execution_count": 140,
     "metadata": {},
     "output_type": "execute_result"
    }
   ],
   "source": [
    "massive_array[:10]"
   ]
  },
  {
   "cell_type": "code",
   "execution_count": 141,
   "id": "d2b8f6ad",
   "metadata": {},
   "outputs": [
    {
     "name": "stdout",
     "output_type": "stream",
     "text": [
      "231 ms ± 41.2 ms per loop (mean ± std. dev. of 7 runs, 1 loop each)\n",
      "1.98 ms ± 192 µs per loop (mean ± std. dev. of 7 runs, 1,000 loops each)\n"
     ]
    }
   ],
   "source": [
    "%timeit sum(massive_array)\n",
    "%timeit np.sum(massive_array)"
   ]
  },
  {
   "cell_type": "code",
   "execution_count": 142,
   "id": "9ad040ea",
   "metadata": {},
   "outputs": [
    {
     "data": {
      "text/plain": [
       "0.500192258339826"
      ]
     },
     "execution_count": 142,
     "metadata": {},
     "output_type": "execute_result"
    }
   ],
   "source": [
    "np.mean(massive_array)"
   ]
  },
  {
   "cell_type": "code",
   "execution_count": 144,
   "id": "9c8937cf",
   "metadata": {},
   "outputs": [
    {
     "data": {
      "text/plain": [
       "0"
      ]
     },
     "execution_count": 144,
     "metadata": {},
     "output_type": "execute_result"
    }
   ],
   "source": [
    "np.min(a4)"
   ]
  },
  {
   "cell_type": "code",
   "execution_count": 145,
   "id": "954bf170",
   "metadata": {},
   "outputs": [
    {
     "data": {
      "text/plain": [
       "3.112474899497183"
      ]
     },
     "execution_count": 145,
     "metadata": {},
     "output_type": "execute_result"
    }
   ],
   "source": [
    "np.std(a1)"
   ]
  },
  {
   "cell_type": "code",
   "execution_count": 146,
   "id": "9d5276aa",
   "metadata": {},
   "outputs": [],
   "source": [
    "# demo of var and std (varience and standard devviation)\n",
    "high = np.array([1,100,200,700,4000,9000])\n",
    "low = np.array([2,3,5,6,7,8])"
   ]
  },
  {
   "cell_type": "code",
   "execution_count": 147,
   "id": "50d1cb7c",
   "metadata": {},
   "outputs": [
    {
     "data": {
      "text/plain": [
       "(10811444.583333334, 4.472222222222222)"
      ]
     },
     "execution_count": 147,
     "metadata": {},
     "output_type": "execute_result"
    }
   ],
   "source": [
    "np.var(high), np.var(low)"
   ]
  },
  {
   "cell_type": "code",
   "execution_count": 148,
   "id": "c19fea33",
   "metadata": {},
   "outputs": [
    {
     "data": {
      "text/plain": [
       "(3288.0761218885023, 2.1147629234082532)"
      ]
     },
     "execution_count": 148,
     "metadata": {},
     "output_type": "execute_result"
    }
   ],
   "source": [
    "np.std(high), np.std(low)"
   ]
  },
  {
   "cell_type": "code",
   "execution_count": 149,
   "id": "9b59df05",
   "metadata": {},
   "outputs": [
    {
     "data": {
      "text/plain": [
       "(2333.5, 5.166666666666667)"
      ]
     },
     "execution_count": 149,
     "metadata": {},
     "output_type": "execute_result"
    }
   ],
   "source": [
    "np.mean(high), np.mean(low)"
   ]
  },
  {
   "cell_type": "code",
   "execution_count": 151,
   "id": "e36ac851",
   "metadata": {},
   "outputs": [
    {
     "data": {
      "text/plain": [
       "<function matplotlib.pyplot.show(close=None, block=None)>"
      ]
     },
     "execution_count": 151,
     "metadata": {},
     "output_type": "execute_result"
    },
    {
     "data": {
      "image/png": "[encoded data removed]",
      "text/plain": [
       "<Figure size 640x480 with 1 Axes>"
      ]
     },
     "metadata": {},
     "output_type": "display_data"
    }
   ],
   "source": [
    "%matplotlib inline\n",
    "import matplotlib.pyplot as plt \n",
    "plt.hist(high)\n",
    "plt.show"
   ]
  },
  {
   "cell_type": "code",
   "execution_count": 152,
   "id": "07a355fe",
   "metadata": {},
   "outputs": [
    {
     "data": {
      "text/plain": [
       "<function matplotlib.pyplot.show(close=None, block=None)>"
      ]
     },
     "execution_count": 152,
     "metadata": {},
     "output_type": "execute_result"
    },
    {
     "data": {
      "image/png": "[encoded data removed]",
      "text/plain": [
       "<Figure size 640x480 with 1 Axes>"
      ]
     },
     "metadata": {},
     "output_type": "display_data"
    }
   ],
   "source": [
    "plt.hist(low)\n",
    "plt.show"
   ]
  },
  {
   "cell_type": "markdown",
   "id": "78944662",
   "metadata": {},
   "source": [
    "### reshaping and transposing "
   ]
  },
  {
   "cell_type": "code",
   "execution_count": 160,
   "id": "63e8ccf0",
   "metadata": {},
   "outputs": [
    {
     "data": {
      "text/plain": [
       "(2, 4)"
      ]
     },
     "execution_count": 160,
     "metadata": {},
     "output_type": "execute_result"
    }
   ],
   "source": [
    "a2.shape"
   ]
  },
  {
   "cell_type": "code",
   "execution_count": 154,
   "id": "d5c0f68f",
   "metadata": {},
   "outputs": [
    {
     "data": {
      "text/plain": [
       "(3, 3, 3)"
      ]
     },
     "execution_count": 154,
     "metadata": {},
     "output_type": "execute_result"
    }
   ],
   "source": [
    "a4.shape"
   ]
  },
  {
   "cell_type": "code",
   "execution_count": 168,
   "id": "c441dec3",
   "metadata": {},
   "outputs": [
    {
     "data": {
      "text/plain": [
       "(2, 4, 1)"
      ]
     },
     "execution_count": 168,
     "metadata": {},
     "output_type": "execute_result"
    }
   ],
   "source": [
    "a2=a2.reshape(2,4,1)\n",
    "a2.shape"
   ]
  },
  {
   "cell_type": "code",
   "execution_count": 169,
   "id": "b0e85f25",
   "metadata": {},
   "outputs": [
    {
     "data": {
      "text/plain": [
       "(1, 4, 2)"
      ]
     },
     "execution_count": 169,
     "metadata": {},
     "output_type": "execute_result"
    }
   ],
   "source": [
    "a2.T.shape"
   ]
  },
  {
   "cell_type": "code",
   "execution_count": 166,
   "id": "efb762fd",
   "metadata": {},
   "outputs": [
    {
     "data": {
      "text/plain": [
       "(2, 4, 1)"
      ]
     },
     "execution_count": 166,
     "metadata": {},
     "output_type": "execute_result"
    }
   ],
   "source": [
    "a2.shape"
   ]
  },
  {
   "cell_type": "markdown",
   "id": "b57c22d4",
   "metadata": {},
   "source": [
    "### Dot product "
   ]
  },
  {
   "cell_type": "code",
   "execution_count": 172,
   "id": "2a2f1972",
   "metadata": {},
   "outputs": [
    {
     "data": {
      "text/plain": [
       "array([[[5, 0, 3],\n",
       "        [3, 7, 9],\n",
       "        [3, 5, 2]],\n",
       "\n",
       "       [[4, 7, 6],\n",
       "        [8, 8, 1],\n",
       "        [6, 7, 7]],\n",
       "\n",
       "       [[8, 1, 5],\n",
       "        [9, 8, 9],\n",
       "        [4, 3, 0]]])"
      ]
     },
     "execution_count": 172,
     "metadata": {},
     "output_type": "execute_result"
    }
   ],
   "source": [
    "np.random.seed(0)\n",
    "mat1 = np.random.randint(10,size=(3,3,3))\n",
    "mat2 = np.random.randint(10,size=(3,3,3))\n",
    "mat1"
   ]
  },
  {
   "cell_type": "code",
   "execution_count": 173,
   "id": "626aa2ff",
   "metadata": {},
   "outputs": [
    {
     "data": {
      "text/plain": [
       "array([[[3, 5, 0],\n",
       "        [2, 3, 8],\n",
       "        [1, 3, 3]],\n",
       "\n",
       "       [[3, 7, 0],\n",
       "        [1, 9, 9],\n",
       "        [0, 4, 7]],\n",
       "\n",
       "       [[3, 2, 7],\n",
       "        [2, 0, 0],\n",
       "        [4, 5, 5]]])"
      ]
     },
     "execution_count": 173,
     "metadata": {},
     "output_type": "execute_result"
    }
   ],
   "source": [
    "mat2"
   ]
  },
  {
   "cell_type": "code",
   "execution_count": 175,
   "id": "0b415a5f",
   "metadata": {},
   "outputs": [
    {
     "data": {
      "text/plain": [
       "((3, 3, 3), (3, 3, 3))"
      ]
     },
     "execution_count": 175,
     "metadata": {},
     "output_type": "execute_result"
    }
   ],
   "source": [
    "mat1.shape, mat2.shape"
   ]
  },
  {
   "cell_type": "code",
   "execution_count": 176,
   "id": "d84603f0",
   "metadata": {},
   "outputs": [
    {
     "data": {
      "text/plain": [
       "array([[[15,  0,  0],\n",
       "        [ 6, 21, 72],\n",
       "        [ 3, 15,  6]],\n",
       "\n",
       "       [[12, 49,  0],\n",
       "        [ 8, 72,  9],\n",
       "        [ 0, 28, 49]],\n",
       "\n",
       "       [[24,  2, 35],\n",
       "        [18,  0,  0],\n",
       "        [16, 15,  0]]])"
      ]
     },
     "execution_count": 176,
     "metadata": {},
     "output_type": "execute_result"
    }
   ],
   "source": [
    "# element wise multiplication\n",
    "mat1*mat2"
   ]
  },
  {
   "cell_type": "code",
   "execution_count": 178,
   "id": "c7d8493e",
   "metadata": {},
   "outputs": [
    {
     "data": {
      "text/plain": [
       "array([[[[ 18,  34,   9],\n",
       "         [ 15,  47,  21],\n",
       "         [ 27,  25,  50]],\n",
       "\n",
       "        [[ 32,  63,  83],\n",
       "         [ 16, 120, 126],\n",
       "         [ 59,  51,  66]],\n",
       "\n",
       "        [[ 21,  36,  46],\n",
       "         [ 14,  74,  59],\n",
       "         [ 27,  16,  31]]],\n",
       "\n",
       "\n",
       "       [[[ 32,  59,  74],\n",
       "         [ 19, 115, 105],\n",
       "         [ 50,  38,  58]],\n",
       "\n",
       "        [[ 41,  67,  67],\n",
       "         [ 32, 132,  79],\n",
       "         [ 44,  21,  61]],\n",
       "\n",
       "        [[ 39,  72,  77],\n",
       "         [ 25, 133, 112],\n",
       "         [ 60,  47,  77]]],\n",
       "\n",
       "\n",
       "       [[[ 31,  58,  23],\n",
       "         [ 25,  85,  44],\n",
       "         [ 46,  41,  81]],\n",
       "\n",
       "        [[ 52,  96,  91],\n",
       "         [ 35, 171, 135],\n",
       "         [ 79,  63, 108]],\n",
       "\n",
       "        [[ 18,  29,  24],\n",
       "         [ 15,  55,  27],\n",
       "         [ 18,   8,  28]]]])"
      ]
     },
     "execution_count": 178,
     "metadata": {},
     "output_type": "execute_result"
    }
   ],
   "source": [
    "np.dot(mat1,mat2)"
   ]
  },
  {
   "cell_type": "code",
   "execution_count": 183,
   "id": "716f63ce",
   "metadata": {},
   "outputs": [
    {
     "ename": "ValueError",
     "evalue": "shapes (3,2) and (3,3) not aligned: 2 (dim 1) != 3 (dim 0)",
     "output_type": "error",
     "traceback": [
      "\u001b[1;31m---------------------------------------------------------------------------\u001b[0m",
      "\u001b[1;31mValueError\u001b[0m                                Traceback (most recent call last)",
      "Cell \u001b[1;32mIn[183], line 1\u001b[0m\n\u001b[1;32m----> 1\u001b[0m np\u001b[38;5;241m.\u001b[39mdot(mat3,mat4)\n",
      "File \u001b[1;32m<__array_function__ internals>:200\u001b[0m, in \u001b[0;36mdot\u001b[1;34m(*args, **kwargs)\u001b[0m\n",
      "\u001b[1;31mValueError\u001b[0m: shapes (3,2) and (3,3) not aligned: 2 (dim 1) != 3 (dim 0)"
     ]
    }
   ],
   "source": [
    "np.dot(mat3,mat4)"
   ]
  },
  {
   "cell_type": "code",
   "execution_count": 191,
   "id": "863b7c12",
   "metadata": {},
   "outputs": [
    {
     "data": {
      "text/plain": [
       "array([[3, 2, 3, 4, 1],\n",
       "       [2, 9, 1, 4, 6],\n",
       "       [8, 2, 3, 0, 0],\n",
       "       [6, 0, 6, 3, 3]])"
      ]
     },
     "execution_count": 191,
     "metadata": {},
     "output_type": "execute_result"
    }
   ],
   "source": [
    "mat3= np.random.randint(10,size=(4,5))\n",
    "mat4= np.random.randint(10,size=(5,3))\n",
    "mat3"
   ]
  },
  {
   "cell_type": "code",
   "execution_count": 192,
   "id": "5863f136",
   "metadata": {},
   "outputs": [
    {
     "data": {
      "text/plain": [
       "array([[8, 8, 8],\n",
       "       [2, 3, 2],\n",
       "       [0, 8, 8],\n",
       "       [3, 8, 2],\n",
       "       [8, 4, 3]])"
      ]
     },
     "execution_count": 192,
     "metadata": {},
     "output_type": "execute_result"
    }
   ],
   "source": [
    "mat4"
   ]
  },
  {
   "cell_type": "code",
   "execution_count": 193,
   "id": "2e4b6679",
   "metadata": {},
   "outputs": [
    {
     "data": {
      "text/plain": [
       "array([[ 48,  90,  63],\n",
       "       [ 94, 107,  68],\n",
       "       [ 68,  94,  92],\n",
       "       [ 81, 132, 111]])"
      ]
     },
     "execution_count": 193,
     "metadata": {},
     "output_type": "execute_result"
    }
   ],
   "source": [
    "np.dot(mat3,mat4)"
   ]
  },
  {
   "cell_type": "markdown",
   "id": "9399a5b2",
   "metadata": {},
   "source": [
    "# Exercise"
   ]
  },
  {
   "cell_type": "code",
   "execution_count": 194,
   "id": "20cd2b50",
   "metadata": {},
   "outputs": [
    {
     "data": {
      "text/plain": [
       "array([[12, 15,  0],\n",
       "       [ 3,  3,  7],\n",
       "       [ 9, 19, 18],\n",
       "       [ 4,  6, 12],\n",
       "       [ 1,  6,  7]])"
      ]
     },
     "execution_count": 194,
     "metadata": {},
     "output_type": "execute_result"
    }
   ],
   "source": [
    "np.random.seed(0)\n",
    "sale_data= np.random.randint(20,size=(5,3))\n",
    "sale_data"
   ]
  },
  {
   "cell_type": "code",
   "execution_count": 195,
   "id": "73a3484b",
   "metadata": {},
   "outputs": [],
   "source": [
    "week_sale= pd.DataFrame(sale_data, index=[\"Mon\",\"Tues\",\"wed\",\"Thurs\",\"Fri\"], columns=[\"Almond Butter\", \"Peanut Butter\",\"Cashew Butter\"])"
   ]
  },
  {
   "cell_type": "code",
   "execution_count": 196,
   "id": "fc4ea5f1",
   "metadata": {},
   "outputs": [
    {
     "data": {
      "text/html": [
       "<div>\n",
       "<style scoped>\n",
       "    .dataframe tbody tr th:only-of-type {\n",
       "        vertical-align: middle;\n",
       "    }\n",
       "\n",
       "    .dataframe tbody tr th {\n",
       "        vertical-align: top;\n",
       "    }\n",
       "\n",
       "    .dataframe thead th {\n",
       "        text-align: right;\n",
       "    }\n",
       "</style>\n",
       "<table border=\"1\" class=\"dataframe\">\n",
       "  <thead>\n",
       "    <tr style=\"text-align: right;\">\n",
       "      <th></th>\n",
       "      <th>Almond Butter</th>\n",
       "      <th>Peanut Butter</th>\n",
       "      <th>Cashew Butter</th>\n",
       "    </tr>\n",
       "  </thead>\n",
       "  <tbody>\n",
       "    <tr>\n",
       "      <th>Mon</th>\n",
       "      <td>12</td>\n",
       "      <td>15</td>\n",
       "      <td>0</td>\n",
       "    </tr>\n",
       "    <tr>\n",
       "      <th>Tues</th>\n",
       "      <td>3</td>\n",
       "      <td>3</td>\n",
       "      <td>7</td>\n",
       "    </tr>\n",
       "    <tr>\n",
       "      <th>wed</th>\n",
       "      <td>9</td>\n",
       "      <td>19</td>\n",
       "      <td>18</td>\n",
       "    </tr>\n",
       "    <tr>\n",
       "      <th>Thurs</th>\n",
       "      <td>4</td>\n",
       "      <td>6</td>\n",
       "      <td>12</td>\n",
       "    </tr>\n",
       "    <tr>\n",
       "      <th>Fri</th>\n",
       "      <td>1</td>\n",
       "      <td>6</td>\n",
       "      <td>7</td>\n",
       "    </tr>\n",
       "  </tbody>\n",
       "</table>\n",
       "</div>"
      ],
      "text/plain": [
       "       Almond Butter  Peanut Butter  Cashew Butter\n",
       "Mon               12             15              0\n",
       "Tues               3              3              7\n",
       "wed                9             19             18\n",
       "Thurs              4              6             12\n",
       "Fri                1              6              7"
      ]
     },
     "execution_count": 196,
     "metadata": {},
     "output_type": "execute_result"
    }
   ],
   "source": [
    "week_sale"
   ]
  },
  {
   "cell_type": "code",
   "execution_count": 201,
   "id": "fadabcb1",
   "metadata": {},
   "outputs": [],
   "source": [
    "prices = np.array([10,8,12])\n",
    "prices\n",
    "prices= prices.reshape(1,3)"
   ]
  },
  {
   "cell_type": "code",
   "execution_count": 202,
   "id": "a9fc7e15",
   "metadata": {},
   "outputs": [],
   "source": [
    "butter_prices= pd.DataFrame(prices, index=[\"Price\"],columns=[\"Almond Butter\", \"Peanut Butter\",\"Cashew Butter\"] )"
   ]
  },
  {
   "cell_type": "code",
   "execution_count": 203,
   "id": "db2283e2",
   "metadata": {},
   "outputs": [
    {
     "data": {
      "text/html": [
       "<div>\n",
       "<style scoped>\n",
       "    .dataframe tbody tr th:only-of-type {\n",
       "        vertical-align: middle;\n",
       "    }\n",
       "\n",
       "    .dataframe tbody tr th {\n",
       "        vertical-align: top;\n",
       "    }\n",
       "\n",
       "    .dataframe thead th {\n",
       "        text-align: right;\n",
       "    }\n",
       "</style>\n",
       "<table border=\"1\" class=\"dataframe\">\n",
       "  <thead>\n",
       "    <tr style=\"text-align: right;\">\n",
       "      <th></th>\n",
       "      <th>Almond Butter</th>\n",
       "      <th>Peanut Butter</th>\n",
       "      <th>Cashew Butter</th>\n",
       "    </tr>\n",
       "  </thead>\n",
       "  <tbody>\n",
       "    <tr>\n",
       "      <th>Price</th>\n",
       "      <td>10</td>\n",
       "      <td>8</td>\n",
       "      <td>12</td>\n",
       "    </tr>\n",
       "  </tbody>\n",
       "</table>\n",
       "</div>"
      ],
      "text/plain": [
       "       Almond Butter  Peanut Butter  Cashew Butter\n",
       "Price             10              8             12"
      ]
     },
     "execution_count": 203,
     "metadata": {},
     "output_type": "execute_result"
    }
   ],
   "source": [
    "butter_prices"
   ]
  },
  {
   "cell_type": "code",
   "execution_count": 211,
   "id": "96abb9f7",
   "metadata": {},
   "outputs": [
    {
     "data": {
      "text/plain": [
       "array([[240, 138, 458, 232, 142]])"
      ]
     },
     "execution_count": 211,
     "metadata": {},
     "output_type": "execute_result"
    }
   ],
   "source": [
    "total_sale= np.dot(butter_prices,week_sale.T)\n",
    "total_sale"
   ]
  },
  {
   "cell_type": "code",
   "execution_count": 213,
   "id": "46ee1d74",
   "metadata": {},
   "outputs": [
    {
     "data": {
      "text/html": [
       "<div>\n",
       "<style scoped>\n",
       "    .dataframe tbody tr th:only-of-type {\n",
       "        vertical-align: middle;\n",
       "    }\n",
       "\n",
       "    .dataframe tbody tr th {\n",
       "        vertical-align: top;\n",
       "    }\n",
       "\n",
       "    .dataframe thead th {\n",
       "        text-align: right;\n",
       "    }\n",
       "</style>\n",
       "<table border=\"1\" class=\"dataframe\">\n",
       "  <thead>\n",
       "    <tr style=\"text-align: right;\">\n",
       "      <th></th>\n",
       "      <th>Almond Butter</th>\n",
       "      <th>Peanut Butter</th>\n",
       "      <th>Cashew Butter</th>\n",
       "      <th>Total ($)</th>\n",
       "    </tr>\n",
       "  </thead>\n",
       "  <tbody>\n",
       "    <tr>\n",
       "      <th>Mon</th>\n",
       "      <td>12</td>\n",
       "      <td>15</td>\n",
       "      <td>0</td>\n",
       "      <td>240</td>\n",
       "    </tr>\n",
       "    <tr>\n",
       "      <th>Tues</th>\n",
       "      <td>3</td>\n",
       "      <td>3</td>\n",
       "      <td>7</td>\n",
       "      <td>138</td>\n",
       "    </tr>\n",
       "    <tr>\n",
       "      <th>wed</th>\n",
       "      <td>9</td>\n",
       "      <td>19</td>\n",
       "      <td>18</td>\n",
       "      <td>458</td>\n",
       "    </tr>\n",
       "    <tr>\n",
       "      <th>Thurs</th>\n",
       "      <td>4</td>\n",
       "      <td>6</td>\n",
       "      <td>12</td>\n",
       "      <td>232</td>\n",
       "    </tr>\n",
       "    <tr>\n",
       "      <th>Fri</th>\n",
       "      <td>1</td>\n",
       "      <td>6</td>\n",
       "      <td>7</td>\n",
       "      <td>142</td>\n",
       "    </tr>\n",
       "  </tbody>\n",
       "</table>\n",
       "</div>"
      ],
      "text/plain": [
       "       Almond Butter  Peanut Butter  Cashew Butter  Total ($)\n",
       "Mon               12             15              0        240\n",
       "Tues               3              3              7        138\n",
       "wed                9             19             18        458\n",
       "Thurs              4              6             12        232\n",
       "Fri                1              6              7        142"
      ]
     },
     "execution_count": 213,
     "metadata": {},
     "output_type": "execute_result"
    }
   ],
   "source": [
    "week_sale[\"Total ($)\"]= total_sale.T\n",
    "week_sale"
   ]
  },
  {
   "cell_type": "code",
   "execution_count": 214,
   "id": "3d1fdbab",
   "metadata": {},
   "outputs": [
    {
     "data": {
      "text/html": [
       "<div>\n",
       "<style scoped>\n",
       "    .dataframe tbody tr th:only-of-type {\n",
       "        vertical-align: middle;\n",
       "    }\n",
       "\n",
       "    .dataframe tbody tr th {\n",
       "        vertical-align: top;\n",
       "    }\n",
       "\n",
       "    .dataframe thead th {\n",
       "        text-align: right;\n",
       "    }\n",
       "</style>\n",
       "<table border=\"1\" class=\"dataframe\">\n",
       "  <thead>\n",
       "    <tr style=\"text-align: right;\">\n",
       "      <th></th>\n",
       "      <th>Almond Butter</th>\n",
       "      <th>Peanut Butter</th>\n",
       "      <th>Cashew Butter</th>\n",
       "    </tr>\n",
       "  </thead>\n",
       "  <tbody>\n",
       "    <tr>\n",
       "      <th>Price</th>\n",
       "      <td>10</td>\n",
       "      <td>8</td>\n",
       "      <td>12</td>\n",
       "    </tr>\n",
       "  </tbody>\n",
       "</table>\n",
       "</div>"
      ],
      "text/plain": [
       "       Almond Butter  Peanut Butter  Cashew Butter\n",
       "Price             10              8             12"
      ]
     },
     "execution_count": 214,
     "metadata": {},
     "output_type": "execute_result"
    }
   ],
   "source": [
    "butter_prices"
   ]
  },
  {
   "cell_type": "markdown",
   "id": "adc3736e",
   "metadata": {},
   "source": [
    "### comparison operator"
   ]
  },
  {
   "cell_type": "code",
   "execution_count": 216,
   "id": "8887cc91",
   "metadata": {},
   "outputs": [
    {
     "data": {
      "text/plain": [
       "(array([[[5, 0, 3],\n",
       "         [3, 7, 9],\n",
       "         [3, 5, 2]],\n",
       " \n",
       "        [[4, 7, 6],\n",
       "         [8, 8, 1],\n",
       "         [6, 7, 7]],\n",
       " \n",
       "        [[8, 1, 5],\n",
       "         [9, 8, 9],\n",
       "         [4, 3, 0]]]),\n",
       " array([[[3, 5, 0],\n",
       "         [2, 3, 8],\n",
       "         [1, 3, 3]],\n",
       " \n",
       "        [[3, 7, 0],\n",
       "         [1, 9, 9],\n",
       "         [0, 4, 7]],\n",
       " \n",
       "        [[3, 2, 7],\n",
       "         [2, 0, 0],\n",
       "         [4, 5, 5]]]))"
      ]
     },
     "execution_count": 216,
     "metadata": {},
     "output_type": "execute_result"
    }
   ],
   "source": [
    "mat1, mat2"
   ]
  },
  {
   "cell_type": "code",
   "execution_count": 222,
   "id": "8cf5970a",
   "metadata": {},
   "outputs": [
    {
     "data": {
      "text/plain": [
       "array([[[False, False, False],\n",
       "        [False, False, False],\n",
       "        [False, False, False]],\n",
       "\n",
       "       [[False,  True, False],\n",
       "        [False, False, False],\n",
       "        [False, False,  True]],\n",
       "\n",
       "       [[False, False, False],\n",
       "        [False, False, False],\n",
       "        [ True, False, False]]])"
      ]
     },
     "execution_count": 222,
     "metadata": {},
     "output_type": "execute_result"
    }
   ],
   "source": []
  },
  {
   "cell_type": "markdown",
   "id": "aae159cd",
   "metadata": {},
   "source": [
    "# 5. Sorting array"
   ]
  },
  {
   "cell_type": "code",
   "execution_count": 225,
   "id": "158e3fa2",
   "metadata": {},
   "outputs": [
    {
     "data": {
      "text/plain": [
       "array([[7, 8, 1, 5, 9],\n",
       "       [8, 9, 4, 3, 0],\n",
       "       [3, 5, 0, 2, 3]])"
      ]
     },
     "execution_count": 225,
     "metadata": {},
     "output_type": "execute_result"
    }
   ],
   "source": [
    "random= np.random.randint(10,size=(3,5))\n",
    "random"
   ]
  },
  {
   "cell_type": "code",
   "execution_count": 228,
   "id": "281d0ff3",
   "metadata": {},
   "outputs": [
    {
     "data": {
      "text/plain": [
       "array([[1, 5, 7, 8, 9],\n",
       "       [0, 3, 4, 8, 9],\n",
       "       [0, 2, 3, 3, 5]])"
      ]
     },
     "execution_count": 228,
     "metadata": {},
     "output_type": "execute_result"
    }
   ],
   "source": [
    "np.sort(random)"
   ]
  },
  {
   "cell_type": "code",
   "execution_count": 230,
   "id": "df7c72e9",
   "metadata": {},
   "outputs": [
    {
     "data": {
      "text/plain": [
       "array([[2, 3, 0, 1, 4],\n",
       "       [4, 3, 2, 0, 1],\n",
       "       [2, 3, 0, 4, 1]], dtype=int64)"
      ]
     },
     "execution_count": 230,
     "metadata": {},
     "output_type": "execute_result"
    }
   ],
   "source": [
    "np.argsort(random)"
   ]
  },
  {
   "cell_type": "code",
   "execution_count": 231,
   "id": "d9f9ce8a",
   "metadata": {},
   "outputs": [
    {
     "data": {
      "text/plain": [
       "array([1, 1, 1, 0, 0], dtype=int64)"
      ]
     },
     "execution_count": 231,
     "metadata": {},
     "output_type": "execute_result"
    }
   ],
   "source": [
    "np.argmax(random, axis=0)"
   ]
  },
  {
   "cell_type": "code",
   "execution_count": 232,
   "id": "007956ed",
   "metadata": {},
   "outputs": [
    {
     "data": {
      "text/plain": [
       "array([4, 1, 1], dtype=int64)"
      ]
     },
     "execution_count": 232,
     "metadata": {},
     "output_type": "execute_result"
    }
   ],
   "source": [
    "np.argmax(random, axis=1)"
   ]
  },
  {
   "cell_type": "markdown",
   "id": "b96d1b53",
   "metadata": {},
   "source": [
    "# 6 image in numpy "
   ]
  },
  {
   "cell_type": "markdown",
   "id": "3a7acc72",
   "metadata": {},
   "source": [
    "## practical action of numPy"
   ]
  },
  {
   "cell_type": "markdown",
   "id": "d7ea011d",
   "metadata": {},
   "source": [
    "<img src=\"panda.jpg\"/>"
   ]
  },
  {
   "cell_type": "code",
   "execution_count": 241,
   "id": "8cf417f8",
   "metadata": {},
   "outputs": [],
   "source": [
    "# turn image into numpy array\n",
    "from matplotlib.image import imread"
   ]
  },
  {
   "cell_type": "code",
   "execution_count": 243,
   "id": "54812a76",
   "metadata": {},
   "outputs": [],
   "source": [
    "panda = imread(\"panda.jpg\")"
   ]
  },
  {
   "cell_type": "code",
   "execution_count": 244,
   "id": "78c30bdd",
   "metadata": {},
   "outputs": [
    {
     "data": {
      "text/plain": [
       "numpy.ndarray"
      ]
     },
     "execution_count": 244,
     "metadata": {},
     "output_type": "execute_result"
    }
   ],
   "source": [
    "type(panda)"
   ]
  },
  {
   "cell_type": "code",
   "execution_count": 245,
   "id": "271f35e1",
   "metadata": {},
   "outputs": [
    {
     "data": {
      "text/plain": [
       "(576720, (360, 534, 3), 3)"
      ]
     },
     "execution_count": 245,
     "metadata": {},
     "output_type": "execute_result"
    }
   ],
   "source": [
    "panda.size, panda.shape, panda.ndim"
   ]
  },
  {
   "cell_type": "code",
   "execution_count": 248,
   "id": "4aa48966",
   "metadata": {},
   "outputs": [
    {
     "data": {
      "text/plain": [
       "array([[[1, 1, 3],\n",
       "        [0, 0, 0],\n",
       "        [0, 1, 0]],\n",
       "\n",
       "       [[3, 3, 5],\n",
       "        [0, 0, 0],\n",
       "        [0, 1, 0]],\n",
       "\n",
       "       [[2, 2, 2],\n",
       "        [1, 2, 0],\n",
       "        [1, 2, 0]]], dtype=uint8)"
      ]
     },
     "execution_count": 248,
     "metadata": {},
     "output_type": "execute_result"
    }
   ],
   "source": [
    "panda[:3,:3,:]"
   ]
  },
  {
   "cell_type": "code",
   "execution_count": 251,
   "id": "7f4229c9",
   "metadata": {},
   "outputs": [
    {
     "data": {
      "text/plain": [
       "0"
      ]
     },
     "execution_count": 251,
     "metadata": {},
     "output_type": "execute_result"
    }
   ],
   "source": [
    "np.min(panda)"
   ]
  },
  {
   "cell_type": "code",
   "execution_count": null,
   "id": "c25c392b",
   "metadata": {},
   "outputs": [],
   "source": []
  }
 ],
 "metadata": {
  "kernelspec": {
   "display_name": "Python 3 (ipykernel)",
   "language": "python",
   "name": "python3"
  },
  "language_info": {
   "codemirror_mode": {
    "name": "ipython",
    "version": 3
   },
   "file_extension": ".py",
   "mimetype": "text/x-python",
   "name": "python",
   "nbconvert_exporter": "python",
   "pygments_lexer": "ipython3",
   "version": "3.11.3"
  }
 },
 "nbformat": 4,
 "nbformat_minor": 5
}
