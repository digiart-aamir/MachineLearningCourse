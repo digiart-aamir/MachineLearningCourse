{
 "cells": [
  {
   "cell_type": "markdown",
   "metadata": {},
   "source": [
    "# NumPy Practice\n",
    "\n",
    "This notebook offers a set of exercises for different tasks with NumPy.\n",
    "\n",
    "It should be noted there may be more than one different way to answer a question or complete an exercise.\n",
    "\n",
    "Exercises are based off (and directly taken from) the quick introduction to NumPy notebook.\n",
    "\n",
    "Different tasks will be detailed by comments or text.\n",
    "\n",
    "For further reference and resources, it's advised to check out the [NumPy documentation](https://numpy.org/devdocs/user/index.html).\n",
    "\n",
    "And if you get stuck, try searching for a question in the following format: \"how to do XYZ with numpy\", where XYZ is the function you want to leverage from NumPy."
   ]
  },
  {
   "cell_type": "code",
   "execution_count": 1,
   "metadata": {},
   "outputs": [],
   "source": [
    "# Import NumPy as its abbreviation 'np'\n",
    "import numpy as np"
   ]
  },
  {
   "cell_type": "code",
   "execution_count": 2,
   "metadata": {},
   "outputs": [],
   "source": [
    "# Create a 1-dimensional NumPy array using np.array()\n",
    "a1= np.array([1,2,3])\n",
    "\n",
    "# Create a 2-dimensional NumPy array using np.array()\n",
    "a2= np.array([[1,2,3],[4,5,6]])\n",
    "\n",
    "# Create a 3-dimensional Numpy array using np.array()\n",
    "a3=np.array([[[1,2,3],[2,3,4]],\n",
    "             [[5,6,7],[7,8,9]],\n",
    "             [[8,9,0],[0,1,2]]]);"
   ]
  },
  {
   "cell_type": "markdown",
   "metadata": {},
   "source": [
    "Now we've you've created 3 different arrays, let's find details about them.\n",
    "\n",
    "Find the shape, number of dimensions, data type, size and type of each array."
   ]
  },
  {
   "cell_type": "code",
   "execution_count": 3,
   "metadata": {},
   "outputs": [
    {
     "data": {
      "text/plain": [
       "((3,), dtype('int32'), 3, numpy.ndarray)"
      ]
     },
     "execution_count": 3,
     "metadata": {},
     "output_type": "execute_result"
    }
   ],
   "source": [
    "# Attributes of 1-dimensional array (shape, \n",
    "# number of dimensions, data type, size and type)\n",
    "a1.shape, a1.dtype, a1.size, type(a1)"
   ]
  },
  {
   "cell_type": "code",
   "execution_count": 4,
   "metadata": {},
   "outputs": [
    {
     "data": {
      "text/plain": [
       "((2, 3), dtype('int32'), 6, numpy.ndarray)"
      ]
     },
     "execution_count": 4,
     "metadata": {},
     "output_type": "execute_result"
    }
   ],
   "source": [
    "# Attributes of 2-dimensional array\n",
    "a2.shape, a2.dtype, a2.size, type(a2)"
   ]
  },
  {
   "cell_type": "code",
   "execution_count": 5,
   "metadata": {},
   "outputs": [
    {
     "data": {
      "text/plain": [
       "((3, 2, 3), dtype('int32'), 18, numpy.ndarray)"
      ]
     },
     "execution_count": 5,
     "metadata": {},
     "output_type": "execute_result"
    }
   ],
   "source": [
    "# Attributes of 3-dimensional array\n",
    "a3.shape, a3.dtype, a3.size, type(a3)"
   ]
  },
  {
   "cell_type": "code",
   "execution_count": 9,
   "metadata": {},
   "outputs": [
    {
     "data": {
      "text/html": [
       "<div>\n",
       "<style scoped>\n",
       "    .dataframe tbody tr th:only-of-type {\n",
       "        vertical-align: middle;\n",
       "    }\n",
       "\n",
       "    .dataframe tbody tr th {\n",
       "        vertical-align: top;\n",
       "    }\n",
       "\n",
       "    .dataframe thead th {\n",
       "        text-align: right;\n",
       "    }\n",
       "</style>\n",
       "<table border=\"1\" class=\"dataframe\">\n",
       "  <thead>\n",
       "    <tr style=\"text-align: right;\">\n",
       "      <th></th>\n",
       "      <th>0</th>\n",
       "      <th>1</th>\n",
       "      <th>2</th>\n",
       "    </tr>\n",
       "  </thead>\n",
       "  <tbody>\n",
       "    <tr>\n",
       "      <th>0</th>\n",
       "      <td>1</td>\n",
       "      <td>2</td>\n",
       "      <td>3</td>\n",
       "    </tr>\n",
       "    <tr>\n",
       "      <th>1</th>\n",
       "      <td>4</td>\n",
       "      <td>5</td>\n",
       "      <td>6</td>\n",
       "    </tr>\n",
       "  </tbody>\n",
       "</table>\n",
       "</div>"
      ],
      "text/plain": [
       "   0  1  2\n",
       "0  1  2  3\n",
       "1  4  5  6"
      ]
     },
     "execution_count": 9,
     "metadata": {},
     "output_type": "execute_result"
    }
   ],
   "source": [
    "# Import pandas and create a DataFrame out of one\n",
    "# of the arrays you've created\n",
    "import pandas as pd \n",
    "df = pd.DataFrame(a2)\n",
    "df"
   ]
  },
  {
   "cell_type": "code",
   "execution_count": 13,
   "metadata": {},
   "outputs": [
    {
     "data": {
      "text/plain": [
       "array([[1, 1],\n",
       "       [1, 1],\n",
       "       [1, 1],\n",
       "       [1, 1],\n",
       "       [1, 1],\n",
       "       [1, 1],\n",
       "       [1, 1],\n",
       "       [1, 1],\n",
       "       [1, 1],\n",
       "       [1, 1]])"
      ]
     },
     "execution_count": 13,
     "metadata": {},
     "output_type": "execute_result"
    }
   ],
   "source": [
    "# Create an array of shape (10, 2) with only ones\n",
    "a4= np.ones((10,2), int)\n",
    "a4"
   ]
  },
  {
   "cell_type": "code",
   "execution_count": 15,
   "metadata": {},
   "outputs": [
    {
     "data": {
      "text/plain": [
       "array([[[0, 0, 0],\n",
       "        [0, 0, 0]],\n",
       "\n",
       "       [[0, 0, 0],\n",
       "        [0, 0, 0]],\n",
       "\n",
       "       [[0, 0, 0],\n",
       "        [0, 0, 0]],\n",
       "\n",
       "       [[0, 0, 0],\n",
       "        [0, 0, 0]],\n",
       "\n",
       "       [[0, 0, 0],\n",
       "        [0, 0, 0]],\n",
       "\n",
       "       [[0, 0, 0],\n",
       "        [0, 0, 0]],\n",
       "\n",
       "       [[0, 0, 0],\n",
       "        [0, 0, 0]]])"
      ]
     },
     "execution_count": 15,
     "metadata": {},
     "output_type": "execute_result"
    }
   ],
   "source": [
    "# Create an array of shape (7, 2, 3) of only zeros\n",
    "a5= np.zeros((7,2,3),int)\n",
    "a5"
   ]
  },
  {
   "cell_type": "code",
   "execution_count": 17,
   "metadata": {},
   "outputs": [
    {
     "data": {
      "text/plain": [
       "array([ 0,  3,  6,  9, 12, 15, 18, 21, 24, 27, 30, 33, 36, 39, 42, 45, 48,\n",
       "       51, 54, 57, 60, 63, 66, 69, 72, 75, 78, 81, 84, 87, 90, 93, 96, 99])"
      ]
     },
     "execution_count": 17,
     "metadata": {},
     "output_type": "execute_result"
    }
   ],
   "source": [
    "# Create an array within a range of 0 and 100 with step 3\n",
    "a6= np.arange(0,100,3)\n",
    "a6"
   ]
  },
  {
   "cell_type": "code",
   "execution_count": 18,
   "metadata": {},
   "outputs": [
    {
     "data": {
      "text/plain": [
       "array([[8, 5],\n",
       "       [4, 8],\n",
       "       [8, 1],\n",
       "       [4, 2],\n",
       "       [0, 4],\n",
       "       [2, 5],\n",
       "       [4, 8]])"
      ]
     },
     "execution_count": 18,
     "metadata": {},
     "output_type": "execute_result"
    }
   ],
   "source": [
    "# Create a random array with numbers between 0 and 10 of size (7, 2)\n",
    "a7= np.random.randint(0,10,size=(7,2))\n",
    "a7"
   ]
  },
  {
   "cell_type": "code",
   "execution_count": 21,
   "metadata": {},
   "outputs": [
    {
     "data": {
      "text/plain": [
       "array([[0.87713415, 0.85000229, 0.90392658, 0.59191001, 0.0700975 ],\n",
       "       [0.16086233, 0.24049596, 0.41861397, 0.49912273, 0.02713033],\n",
       "       [0.17822707, 0.16356824, 0.16226989, 0.38991943, 0.43724379]])"
      ]
     },
     "execution_count": 21,
     "metadata": {},
     "output_type": "execute_result"
    }
   ],
   "source": [
    "# Create a random array of floats between 0 & 1 of shape (3, 5)\n",
    "a8= np.random.random((3,5))\n",
    "a8"
   ]
  },
  {
   "cell_type": "code",
   "execution_count": 23,
   "metadata": {},
   "outputs": [
    {
     "data": {
      "text/plain": [
       "array([[6, 3, 7, 4, 6, 9],\n",
       "       [2, 6, 7, 4, 3, 7],\n",
       "       [7, 2, 5, 4, 1, 7],\n",
       "       [5, 1, 4, 0, 9, 5]])"
      ]
     },
     "execution_count": 23,
     "metadata": {},
     "output_type": "execute_result"
    }
   ],
   "source": [
    "# Set the random seed to 42\n",
    "np.random.seed(42)\n",
    "\n",
    "# Create a random array of numbers between 0 & 10 of size (4, 6)\n",
    "a9= np.random.randint(0,10,size=(4,6))\n",
    "a9"
   ]
  },
  {
   "cell_type": "markdown",
   "metadata": {},
   "source": [
    "Run the cell above again, what happens?\n",
    "\n",
    "Are the numbers in the array different or the same? Why do think this is?"
   ]
  },
  {
   "cell_type": "code",
   "execution_count": 24,
   "metadata": {},
   "outputs": [
    {
     "name": "stdout",
     "output_type": "stream",
     "text": [
      "[[9 1 3 7 4 9 3]\n",
      " [5 3 7 5 9 7 2]\n",
      " [4 9 2 9 5 2 4]]\n"
     ]
    },
    {
     "data": {
      "text/plain": [
       "array([1, 2, 3, 4, 5, 7, 9])"
      ]
     },
     "execution_count": 24,
     "metadata": {},
     "output_type": "execute_result"
    }
   ],
   "source": [
    "# Create an array of random numbers between 1 & 10 of size (3, 7)\n",
    "# and save it to a variable\n",
    "a10 = np.random.randint(1,10,size=(3,7))\n",
    "print(a10)\n",
    "\n",
    "# Find the unique numbers in the array you just created\n",
    "np.unique(a10)"
   ]
  },
  {
   "cell_type": "code",
   "execution_count": 25,
   "metadata": {},
   "outputs": [
    {
     "data": {
      "text/plain": [
       "array([9, 1, 3, 7, 4, 9, 3])"
      ]
     },
     "execution_count": 25,
     "metadata": {},
     "output_type": "execute_result"
    }
   ],
   "source": [
    "# Find the 0'th index of the latest array you created\n",
    "a10[0]"
   ]
  },
  {
   "cell_type": "code",
   "execution_count": 28,
   "metadata": {},
   "outputs": [
    {
     "data": {
      "text/plain": [
       "array([[9, 1, 3, 7, 4, 9, 3],\n",
       "       [5, 3, 7, 5, 9, 7, 2]])"
      ]
     },
     "execution_count": 28,
     "metadata": {},
     "output_type": "execute_result"
    }
   ],
   "source": [
    "# Get the first 2 rows of latest array you created\n",
    "a10[:2]"
   ]
  },
  {
   "cell_type": "code",
   "execution_count": 29,
   "metadata": {},
   "outputs": [
    {
     "data": {
      "text/plain": [
       "array([[9, 1],\n",
       "       [5, 3]])"
      ]
     },
     "execution_count": 29,
     "metadata": {},
     "output_type": "execute_result"
    }
   ],
   "source": [
    "# Get the first 2 values of the first 2 rows of the latest array\n",
    "a10[:2, :2]"
   ]
  },
  {
   "cell_type": "code",
   "execution_count": 36,
   "metadata": {},
   "outputs": [
    {
     "data": {
      "text/plain": [
       "(array([[9, 6, 9, 8, 6],\n",
       "        [8, 7, 1, 0, 6],\n",
       "        [6, 7, 4, 2, 7]]),\n",
       " array([[1, 1, 1, 1, 1],\n",
       "        [1, 1, 1, 1, 1],\n",
       "        [1, 1, 1, 1, 1]]))"
      ]
     },
     "execution_count": 36,
     "metadata": {},
     "output_type": "execute_result"
    }
   ],
   "source": [
    "# Create a random array of numbers between 0 & 10 and an array of ones\n",
    "# both of size (3, 5), save them both to variables\n",
    "a11= np.random.randint(0,10,size=(3,5))\n",
    "a12= np.ones((3,5),int)\n",
    "a11,a12"
   ]
  },
  {
   "cell_type": "code",
   "execution_count": 37,
   "metadata": {},
   "outputs": [
    {
     "data": {
      "text/plain": [
       "array([[10,  7, 10,  9,  7],\n",
       "       [ 9,  8,  2,  1,  7],\n",
       "       [ 7,  8,  5,  3,  8]])"
      ]
     },
     "execution_count": 37,
     "metadata": {},
     "output_type": "execute_result"
    }
   ],
   "source": [
    "# Add the two arrays together\n",
    "a11+a12"
   ]
  },
  {
   "cell_type": "code",
   "execution_count": 38,
   "metadata": {},
   "outputs": [],
   "source": [
    "# Create another array of ones of shape (5, 3)\n",
    "a13= np.ones((5,3))"
   ]
  },
  {
   "cell_type": "code",
   "execution_count": 41,
   "metadata": {},
   "outputs": [
    {
     "data": {
      "text/plain": [
       "array([[2., 2., 2., 2., 2.],\n",
       "       [2., 2., 2., 2., 2.],\n",
       "       [2., 2., 2., 2., 2.]])"
      ]
     },
     "execution_count": 41,
     "metadata": {},
     "output_type": "execute_result"
    }
   ],
   "source": [
    "# Try add the array of ones and the other most recent array together\n",
    "#a12+a13\n",
    "#error = operands could not be broadcast together with shapes (3,5) (5,3) \n",
    "\n",
    "\n",
    "#sol;\n",
    "\n",
    "a12+ a13.T"
   ]
  },
  {
   "cell_type": "markdown",
   "metadata": {},
   "source": [
    "When you try the last cell, it produces an error. Why do think this is?\n",
    "\n",
    "How would you fix it?"
   ]
  },
  {
   "cell_type": "code",
   "execution_count": 43,
   "metadata": {},
   "outputs": [],
   "source": [
    "# Create another array of ones of shape (3, 5)\n",
    "a14= np.ones((3,5))"
   ]
  },
  {
   "cell_type": "code",
   "execution_count": 45,
   "metadata": {},
   "outputs": [
    {
     "ename": "ValueError",
     "evalue": "operands could not be broadcast together with shapes (3,5) (5,3) ",
     "output_type": "error",
     "traceback": [
      "\u001b[1;31m---------------------------------------------------------------------------\u001b[0m",
      "\u001b[1;31mValueError\u001b[0m                                Traceback (most recent call last)",
      "Cell \u001b[1;32mIn[45], line 2\u001b[0m\n\u001b[0;32m      1\u001b[0m \u001b[38;5;66;03m# Subtract the new array of ones from the other most recent array\u001b[39;00m\n\u001b[1;32m----> 2\u001b[0m a14\u001b[38;5;241m-\u001b[39ma13\n",
      "\u001b[1;31mValueError\u001b[0m: operands could not be broadcast together with shapes (3,5) (5,3) "
     ]
    }
   ],
   "source": [
    "# Subtract the new array of ones from the other most recent array\n",
    "a14-a13"
   ]
  },
  {
   "cell_type": "code",
   "execution_count": 48,
   "metadata": {},
   "outputs": [
    {
     "data": {
      "text/plain": [
       "array([[9., 6., 9., 8., 6.],\n",
       "       [8., 7., 1., 0., 6.],\n",
       "       [6., 7., 4., 2., 7.]])"
      ]
     },
     "execution_count": 48,
     "metadata": {},
     "output_type": "execute_result"
    }
   ],
   "source": [
    "# Multiply the ones array with the latest array\n",
    "a11*a14"
   ]
  },
  {
   "cell_type": "code",
   "execution_count": 49,
   "metadata": {},
   "outputs": [
    {
     "data": {
      "text/plain": [
       "array([[81, 36, 81, 64, 36],\n",
       "       [64, 49,  1,  0, 36],\n",
       "       [36, 49, 16,  4, 49]])"
      ]
     },
     "execution_count": 49,
     "metadata": {},
     "output_type": "execute_result"
    }
   ],
   "source": [
    "# Take the latest array to the power of 2 using '**'\n",
    "a11**2"
   ]
  },
  {
   "cell_type": "code",
   "execution_count": 50,
   "metadata": {},
   "outputs": [
    {
     "data": {
      "text/plain": [
       "array([[81, 36, 81, 64, 36],\n",
       "       [64, 49,  1,  0, 36],\n",
       "       [36, 49, 16,  4, 49]])"
      ]
     },
     "execution_count": 50,
     "metadata": {},
     "output_type": "execute_result"
    }
   ],
   "source": [
    "# Do the same thing with np.square()\n",
    "np.square(a11)"
   ]
  },
  {
   "cell_type": "code",
   "execution_count": 51,
   "metadata": {},
   "outputs": [
    {
     "data": {
      "text/plain": [
       "5.733333333333333"
      ]
     },
     "execution_count": 51,
     "metadata": {},
     "output_type": "execute_result"
    }
   ],
   "source": [
    "# Find the mean of the latest array using np.mean()\n",
    "np.mean(a11)"
   ]
  },
  {
   "cell_type": "code",
   "execution_count": 52,
   "metadata": {},
   "outputs": [
    {
     "data": {
      "text/plain": [
       "9"
      ]
     },
     "execution_count": 52,
     "metadata": {},
     "output_type": "execute_result"
    }
   ],
   "source": [
    "# Find the maximum of the latest array using np.max()\n",
    "np.max(a11)"
   ]
  },
  {
   "cell_type": "code",
   "execution_count": 53,
   "metadata": {},
   "outputs": [
    {
     "data": {
      "text/plain": [
       "0"
      ]
     },
     "execution_count": 53,
     "metadata": {},
     "output_type": "execute_result"
    }
   ],
   "source": [
    "# Find the minimum of the latest array using np.min()\n",
    "np.min(a11)"
   ]
  },
  {
   "cell_type": "code",
   "execution_count": 54,
   "metadata": {},
   "outputs": [
    {
     "data": {
      "text/plain": [
       "2.6948510575210314"
      ]
     },
     "execution_count": 54,
     "metadata": {},
     "output_type": "execute_result"
    }
   ],
   "source": [
    "# Find the standard deviation of the latest array\n",
    "np.std(a11)"
   ]
  },
  {
   "cell_type": "code",
   "execution_count": 55,
   "metadata": {},
   "outputs": [
    {
     "data": {
      "text/plain": [
       "7.2622222222222215"
      ]
     },
     "execution_count": 55,
     "metadata": {},
     "output_type": "execute_result"
    }
   ],
   "source": [
    "# Find the variance of the latest array\n",
    "np.var(a11)"
   ]
  },
  {
   "cell_type": "code",
   "execution_count": 56,
   "metadata": {},
   "outputs": [
    {
     "data": {
      "text/plain": [
       "array([[[9],\n",
       "        [6],\n",
       "        [9],\n",
       "        [8],\n",
       "        [6]],\n",
       "\n",
       "       [[8],\n",
       "        [7],\n",
       "        [1],\n",
       "        [0],\n",
       "        [6]],\n",
       "\n",
       "       [[6],\n",
       "        [7],\n",
       "        [4],\n",
       "        [2],\n",
       "        [7]]])"
      ]
     },
     "execution_count": 56,
     "metadata": {},
     "output_type": "execute_result"
    }
   ],
   "source": [
    "# Reshape the latest array to (3, 5, 1)\n",
    "a11.reshape(3,5,1)"
   ]
  },
  {
   "cell_type": "code",
   "execution_count": 59,
   "metadata": {},
   "outputs": [
    {
     "data": {
      "text/plain": [
       "array([[1., 1., 1.],\n",
       "       [1., 1., 1.],\n",
       "       [1., 1., 1.],\n",
       "       [1., 1., 1.],\n",
       "       [1., 1., 1.]])"
      ]
     },
     "execution_count": 59,
     "metadata": {},
     "output_type": "execute_result"
    }
   ],
   "source": [
    "# Transpose the latest array\n",
    "a14.T"
   ]
  },
  {
   "cell_type": "markdown",
   "metadata": {},
   "source": [
    "What does the transpose do?"
   ]
  },
  {
   "cell_type": "code",
   "execution_count": 60,
   "metadata": {},
   "outputs": [],
   "source": [
    "# Create two arrays of random integers between 0 to 10\n",
    "# one of size (3, 3) the other of size (3, 2)\n",
    "a15= np.random.randint(0,10,size=(3,3))\n",
    "a16= np.random.randint(0,10,size=(3,2))"
   ]
  },
  {
   "cell_type": "code",
   "execution_count": 61,
   "metadata": {},
   "outputs": [
    {
     "data": {
      "text/plain": [
       "array([[ 46,  48],\n",
       "       [ 62,  52],\n",
       "       [113,  54]])"
      ]
     },
     "execution_count": 61,
     "metadata": {},
     "output_type": "execute_result"
    }
   ],
   "source": [
    "# Perform a dot product on the two newest arrays you created\n",
    "np.dot(a15,a16)"
   ]
  },
  {
   "cell_type": "code",
   "execution_count": 62,
   "metadata": {},
   "outputs": [],
   "source": [
    "# Create two arrays of random integers between 0 to 10\n",
    "# both of size (4, 3)\n",
    "a17= np.random.randint(0,10,size=(4,3))\n",
    "a18= np.random.randint(0,10,size=(4,3))"
   ]
  },
  {
   "cell_type": "code",
   "execution_count": 63,
   "metadata": {},
   "outputs": [
    {
     "ename": "ValueError",
     "evalue": "shapes (4,3) and (4,3) not aligned: 3 (dim 1) != 4 (dim 0)",
     "output_type": "error",
     "traceback": [
      "\u001b[1;31m---------------------------------------------------------------------------\u001b[0m",
      "\u001b[1;31mValueError\u001b[0m                                Traceback (most recent call last)",
      "Cell \u001b[1;32mIn[63], line 2\u001b[0m\n\u001b[0;32m      1\u001b[0m \u001b[38;5;66;03m# Perform a dot product on the two newest arrays you created\u001b[39;00m\n\u001b[1;32m----> 2\u001b[0m np\u001b[38;5;241m.\u001b[39mdot(a17,a18)\n",
      "File \u001b[1;32m<__array_function__ internals>:200\u001b[0m, in \u001b[0;36mdot\u001b[1;34m(*args, **kwargs)\u001b[0m\n",
      "\u001b[1;31mValueError\u001b[0m: shapes (4,3) and (4,3) not aligned: 3 (dim 1) != 4 (dim 0)"
     ]
    }
   ],
   "source": [
    "# Perform a dot product on the two newest arrays you created\n",
    "np.dot(a17,a18)"
   ]
  },
  {
   "cell_type": "markdown",
   "metadata": {},
   "source": [
    "It doesn't work. How would you fix it?"
   ]
  },
  {
   "cell_type": "code",
   "execution_count": 66,
   "metadata": {},
   "outputs": [
    {
     "data": {
      "text/plain": [
       "array([[105, 105, 103],\n",
       "       [ 38,  36,  94],\n",
       "       [ 93,  90, 110]])"
      ]
     },
     "execution_count": 66,
     "metadata": {},
     "output_type": "execute_result"
    }
   ],
   "source": [
    "# Take the latest two arrays, perform a transpose on one of them and then perform \n",
    "# a dot product on them both\n",
    "a17= a17.T\n",
    "np.dot(a17, a18)"
   ]
  },
  {
   "cell_type": "markdown",
   "metadata": {},
   "source": [
    "Notice how performing a transpose allows the dot product to happen.\n",
    "\n",
    "Why is this?\n",
    "\n",
    "Checking out the documentation on [`np.dot()`](https://docs.scipy.org/doc/numpy/reference/generated/numpy.dot.html) may help, as well as reading [Math is Fun's guide on the dot product](https://www.mathsisfun.com/algebra/vectors-dot-product.html).\n",
    "\n",
    "Let's now compare arrays."
   ]
  },
  {
   "cell_type": "code",
   "execution_count": 67,
   "metadata": {},
   "outputs": [],
   "source": [
    "# Create two arrays of random integers between 0 & 10 of the same shape\n",
    "# and save them to variables\n",
    "a19= np.random.randint(0,10,size=(4,3))\n",
    "a20= np.random.randint(0,10,size=(4,3))"
   ]
  },
  {
   "cell_type": "code",
   "execution_count": 68,
   "metadata": {},
   "outputs": [
    {
     "data": {
      "text/plain": [
       "array([[ True, False,  True],\n",
       "       [False,  True,  True],\n",
       "       [ True, False,  True],\n",
       "       [False,  True,  True]])"
      ]
     },
     "execution_count": 68,
     "metadata": {},
     "output_type": "execute_result"
    }
   ],
   "source": [
    "# Compare the two arrays with '>'\n",
    "a19>a20"
   ]
  },
  {
   "cell_type": "markdown",
   "metadata": {},
   "source": [
    "What happens when you compare the arrays with `>`?"
   ]
  },
  {
   "cell_type": "code",
   "execution_count": 69,
   "metadata": {},
   "outputs": [
    {
     "data": {
      "text/plain": [
       "array([[ True, False,  True],\n",
       "       [False,  True,  True],\n",
       "       [ True, False,  True],\n",
       "       [False,  True,  True]])"
      ]
     },
     "execution_count": 69,
     "metadata": {},
     "output_type": "execute_result"
    }
   ],
   "source": [
    "# Compare the two arrays with '>='\n",
    "a19>=a20"
   ]
  },
  {
   "cell_type": "code",
   "execution_count": 70,
   "metadata": {},
   "outputs": [
    {
     "data": {
      "text/plain": [
       "array([[ True, False,  True],\n",
       "       [False, False, False],\n",
       "       [False,  True, False],\n",
       "       [False, False,  True]])"
      ]
     },
     "execution_count": 70,
     "metadata": {},
     "output_type": "execute_result"
    }
   ],
   "source": [
    "# Find which elements of the first array are greater than 7\n",
    "a19>7"
   ]
  },
  {
   "cell_type": "code",
   "execution_count": 71,
   "metadata": {},
   "outputs": [
    {
     "data": {
      "text/plain": [
       "array([[False, False, False],\n",
       "       [False, False, False],\n",
       "       [False, False, False],\n",
       "       [False, False, False]])"
      ]
     },
     "execution_count": 71,
     "metadata": {},
     "output_type": "execute_result"
    }
   ],
   "source": [
    "# Which parts of each array are equal? (try using '==')\n",
    "a19 == a20"
   ]
  },
  {
   "cell_type": "code",
   "execution_count": 72,
   "metadata": {},
   "outputs": [
    {
     "data": {
      "text/plain": [
       "array([[5, 7, 7],\n",
       "       [0, 3, 8],\n",
       "       [0, 3, 9],\n",
       "       [1, 2, 6]])"
      ]
     },
     "execution_count": 72,
     "metadata": {},
     "output_type": "execute_result"
    }
   ],
   "source": [
    "# Sort one of the arrays you just created in ascending order\n",
    "np.sort(a20)"
   ]
  },
  {
   "cell_type": "code",
   "execution_count": 73,
   "metadata": {},
   "outputs": [
    {
     "data": {
      "text/plain": [
       "array([[1, 0, 2],\n",
       "       [2, 1, 0],\n",
       "       [0, 2, 1],\n",
       "       [1, 2, 0]], dtype=int64)"
      ]
     },
     "execution_count": 73,
     "metadata": {},
     "output_type": "execute_result"
    }
   ],
   "source": [
    "# Sort the indexes of one of the arrays you just created\n",
    "np.argsort(a20)"
   ]
  },
  {
   "cell_type": "code",
   "execution_count": 74,
   "metadata": {},
   "outputs": [
    {
     "data": {
      "text/plain": [
       "7"
      ]
     },
     "execution_count": 74,
     "metadata": {},
     "output_type": "execute_result"
    }
   ],
   "source": [
    "# Find the index with the maximum value in one of the arrays you've created\n",
    "np.argmax(a20)"
   ]
  },
  {
   "cell_type": "code",
   "execution_count": 75,
   "metadata": {},
   "outputs": [
    {
     "data": {
      "text/plain": [
       "5"
      ]
     },
     "execution_count": 75,
     "metadata": {},
     "output_type": "execute_result"
    }
   ],
   "source": [
    "# Find the index with the minimum value in one of the arrays you've created\n",
    "np.argmin(a20)"
   ]
  },
  {
   "cell_type": "code",
   "execution_count": 76,
   "metadata": {},
   "outputs": [
    {
     "data": {
      "text/plain": [
       "array([[1, 0, 2],\n",
       "       [2, 1, 0],\n",
       "       [0, 2, 1],\n",
       "       [1, 2, 0]], dtype=int64)"
      ]
     },
     "execution_count": 76,
     "metadata": {},
     "output_type": "execute_result"
    }
   ],
   "source": [
    "# Find the indexes with the maximum values down the 1st axis (axis=1)\n",
    "# of one of the arrays you created\n",
    "np.argsort(a20,axis=1)"
   ]
  },
  {
   "cell_type": "code",
   "execution_count": 77,
   "metadata": {},
   "outputs": [
    {
     "data": {
      "text/plain": [
       "array([[2, 3, 1],\n",
       "       [3, 1, 3],\n",
       "       [0, 0, 2],\n",
       "       [1, 2, 0]], dtype=int64)"
      ]
     },
     "execution_count": 77,
     "metadata": {},
     "output_type": "execute_result"
    }
   ],
   "source": [
    "# Find the indexes with the minimum values across the 0th axis (axis=0)\n",
    "# of one of the arrays you created\n",
    "np.argsort(a20,axis=0)"
   ]
  },
  {
   "cell_type": "code",
   "execution_count": 79,
   "metadata": {},
   "outputs": [
    {
     "data": {
      "text/plain": [
       "array([-1.07666051e+00,  6.68407961e-01, -1.08959310e+00,  1.63112585e+00,\n",
       "       -7.71628322e-01,  2.96628320e-01,  1.00514257e+00, -2.52380043e-01,\n",
       "        3.40600019e-01,  1.43518155e+00,  5.64402988e-01,  3.55550630e-01,\n",
       "       -1.68478539e+00, -9.33722253e-01,  1.04692013e+00,  5.69950305e-01,\n",
       "        7.21466274e-01,  6.35396932e-01,  1.28975653e+00, -2.61399925e-01,\n",
       "        1.20499959e-01, -1.02867433e+00, -1.27802258e+00, -1.64374072e+00,\n",
       "       -8.85163499e-01,  1.55256182e+00, -1.55272707e+00, -3.03535986e-01,\n",
       "       -1.29314532e+00, -6.00973963e-01,  1.69693792e-01, -7.00115873e-01,\n",
       "        1.08966487e+00,  1.53397812e+00, -2.24909573e+00, -6.82992330e-01,\n",
       "        5.91421223e-02,  1.12611703e+00, -4.54244275e-01, -1.99353952e-02,\n",
       "       -1.15674423e+00, -1.53279585e+00,  1.44538469e+00, -1.82406987e+00,\n",
       "        2.32861901e+00,  7.25151399e-01,  6.79973076e-01,  5.75468667e-01,\n",
       "       -2.52685688e-01,  3.92084530e-01, -1.88896688e-01,  5.53073276e-01,\n",
       "       -3.36865269e-02, -9.50348183e-01, -8.70572616e-01, -9.84272375e-01,\n",
       "        9.70900732e-01, -6.17446612e-01, -1.91210316e+00,  3.96838666e-01,\n",
       "        1.51451756e+00,  7.73083189e-01, -6.03323565e-01, -1.58681172e+00,\n",
       "       -1.34268103e-01, -1.59223878e-01, -9.69199610e-01,  5.51037302e-01,\n",
       "        1.84662650e+00,  2.22282717e-01,  1.60476207e-01, -9.37228049e-01,\n",
       "        1.39741470e+00, -7.51441668e-02, -5.78963255e-01,  6.36883937e-02,\n",
       "        4.71961333e-01,  1.39215409e-01,  1.20615340e+00,  3.83971553e-01,\n",
       "       -2.83941811e-01,  4.01192216e-01,  4.99637101e-01, -1.29637592e+00,\n",
       "        1.14941973e+00, -3.00904019e-01, -2.75323224e-01,  7.51375987e-01,\n",
       "        7.47165224e-01, -7.00831679e-01,  8.02901618e-01, -5.60448151e-01,\n",
       "        1.81957305e+00, -8.28193981e-01,  2.39477462e-01, -7.82017637e-01,\n",
       "        2.22269563e+00, -1.23782094e+00,  5.24362747e-01, -7.34910414e-01,\n",
       "       -3.54107641e-01,  4.53537834e-01,  1.22458444e+00,  1.62339656e+00,\n",
       "       -1.53694796e+00,  2.67751224e-01,  1.45949360e+00, -1.68531094e+00,\n",
       "        3.14383494e-01, -2.08379742e-03,  4.14541814e-01, -7.72304025e-01,\n",
       "       -1.43561883e+00, -1.91310643e+00,  9.76383953e-01,  1.10404914e+00,\n",
       "        3.02685349e-01, -5.34148350e-01, -1.62304589e+00,  5.63345463e-01,\n",
       "       -1.10077928e+00, -7.11298625e-01, -5.86564080e-01, -1.97535226e-01,\n",
       "       -7.59040447e-01,  3.34587710e-02, -6.21818301e-01,  7.01373065e-01,\n",
       "        1.03106291e+00,  1.08542676e-01,  4.62626335e-01,  2.11785595e+00,\n",
       "       -1.17260326e+00, -1.23346810e+00,  6.94997901e-01,  1.94654284e+00,\n",
       "       -2.60498562e-01,  1.72683384e+00,  9.64337188e-02, -6.80887282e-01,\n",
       "       -9.90692389e-01,  6.29413585e-01, -9.14959068e-01,  8.12768428e-02,\n",
       "        1.58346503e+00, -3.06780393e-01,  1.31400947e+00, -1.21454349e+00,\n",
       "       -5.33909101e-01, -1.40714403e+00,  7.29967560e-02,  7.80078180e-01,\n",
       "        7.51870876e-02,  1.22705006e+00, -7.49179241e-01,  2.25342754e-01,\n",
       "       -5.27469324e-01,  3.61676585e-01,  5.03736046e-01,  5.82395960e-01,\n",
       "       -1.07059434e+00, -8.89746102e-01, -7.04287708e-01, -2.38880748e-01,\n",
       "        8.71864042e-02,  7.08089122e-01, -8.48098699e-01, -1.60101930e+00,\n",
       "        2.15574316e+00, -1.13145302e+00,  8.36323723e-01,  3.12668772e-02,\n",
       "        2.51305641e-01, -1.55050584e-03, -3.84841882e-01,  4.63972283e-01,\n",
       "       -4.38587206e-01,  1.16630275e+00,  5.68441006e-01,  5.99594113e-01,\n",
       "       -5.07123060e-01, -2.36354737e-01, -1.18791281e+00, -3.53016057e-01,\n",
       "       -1.03657592e+00,  1.31306852e+00,  5.05358156e-02,  1.70497235e-01,\n",
       "       -2.25146527e-01,  1.97578922e-01,  2.46487764e+00, -3.00140284e-01,\n",
       "       -6.50413035e-01,  5.29693133e-01, -2.52571863e+00,  6.39567869e-02,\n",
       "       -3.71712903e-01, -9.92313266e-01,  5.07757670e-01,  5.39884184e-02,\n",
       "       -1.80240891e+00, -6.46529521e-01, -2.88827121e+00,  2.93269314e-01,\n",
       "        2.83299418e-01, -7.93281894e-01,  5.40112712e-01, -1.28249862e+00,\n",
       "       -9.66517026e-01,  4.17190464e-01, -6.88666755e-01, -6.26569562e-02,\n",
       "       -5.63649027e-01, -4.10931156e-01, -3.67224216e-01, -7.06756757e-01,\n",
       "        3.02449714e-01, -6.27928487e-01,  1.56867138e-02, -7.28731681e-01,\n",
       "       -1.53429863e+00,  9.12435249e-01,  4.99526985e-01,  2.28868207e+00,\n",
       "       -1.04397284e+00, -2.08960487e-01, -1.28507481e-01,  9.89369438e-01,\n",
       "       -5.07107894e-01, -1.17104185e+00,  1.20780931e+00, -3.16650029e-01,\n",
       "        8.78643510e-01,  7.62198401e-01, -2.98904739e-02, -1.74313705e-01,\n",
       "       -3.91564806e-01, -1.51931288e-02,  8.63100226e-01, -7.96440181e-01,\n",
       "        1.08845630e-01, -1.11863143e+00, -9.94106233e-01, -3.09389972e-02,\n",
       "       -1.96015801e+00,  2.06055862e+00, -1.19305995e+00, -4.00885127e-02,\n",
       "        1.16821772e+00, -8.62905339e-01, -2.30269699e+00, -4.44945760e-01,\n",
       "       -8.74820380e-01, -2.27637351e+00,  2.84889893e-01,  2.07093862e-01,\n",
       "        1.14232645e+00, -1.12082237e+00, -1.59913649e+00, -4.06723083e-01,\n",
       "       -8.83426590e-02,  9.21349603e-01,  1.41056801e+00,  1.21447913e+00,\n",
       "        2.76543667e-01,  7.99499254e-01, -6.40493435e-01,  1.68395192e-01,\n",
       "       -1.19129014e+00,  6.26853969e-02,  8.86466974e-02,  1.72212861e+00,\n",
       "       -2.28982861e-01,  9.00428377e-02,  2.36961416e-01, -4.54820316e-01,\n",
       "       -8.02492733e-01,  1.29881132e+00, -9.80917443e-01, -1.32791807e+00,\n",
       "        6.80265379e-01,  1.15781484e+00, -4.51409658e-01, -4.36053488e-01,\n",
       "        2.82543526e-01, -7.07852677e-01, -7.81712521e-01,  8.79592588e-01,\n",
       "        6.07131101e-01,  1.31115889e+00, -1.25258901e+00, -5.02462487e-01,\n",
       "        2.81179562e-01, -9.25620850e-01,  6.41687437e-01,  1.22462709e+00,\n",
       "       -5.83357972e-01,  3.85919402e-02,  1.45561869e+00,  1.79927158e+00,\n",
       "        7.45801251e-01,  5.93429173e-01, -8.53736535e-01,  3.59209400e-01,\n",
       "        5.56820841e-01, -2.10370159e-01, -5.94776255e-01, -1.28129767e+00,\n",
       "       -1.73772976e+00, -1.94788351e+00,  5.79442573e-01,  1.47699325e-01,\n",
       "       -4.83811132e-01, -3.31456298e-01,  2.10470542e-01, -1.64563071e-01,\n",
       "       -1.34055318e+00,  9.13000220e-01,  3.04126171e-01,  2.65898480e-01,\n",
       "        8.37562703e-01, -8.13645356e-01,  1.21373144e+00, -1.40042852e-01,\n",
       "        8.88598880e-01,  7.34449033e-01, -1.03880183e+00,  5.02900405e-01,\n",
       "        3.26274671e-01,  3.03116575e-02, -9.43717500e-02, -8.58932497e-02,\n",
       "        8.12689426e-01,  5.77910514e-01,  3.04788503e-02, -1.49193615e+00,\n",
       "        4.94443414e-01,  7.23613619e-01,  2.30041009e+00,  1.07543306e+00,\n",
       "       -1.89917639e+00,  7.84293990e-02,  1.81137503e+00,  6.23548857e-01,\n",
       "        3.28652160e-01,  9.00228659e-01, -6.22378195e-01,  4.78089997e-01,\n",
       "       -2.50468039e-01, -1.96234858e-02,  8.28454516e-01, -9.26713102e-01,\n",
       "        1.28798247e+00, -4.22811961e-01,  2.60662833e-01, -1.40050796e+00,\n",
       "        7.19837291e-01,  1.44650394e+00, -5.14641549e-01, -1.11022339e+00,\n",
       "        2.77983065e-01,  1.45481064e+00, -1.44985657e+00, -1.10630818e+00,\n",
       "       -4.54189558e-01, -8.20343825e-01, -8.17185467e-01, -2.09412063e+00,\n",
       "        5.89056947e-01,  3.38720503e-01, -1.69884920e+00,  1.45719576e+00,\n",
       "        1.68109231e+00, -7.50905550e-01,  1.16654859e+00, -5.72997805e-01,\n",
       "        1.81116510e-01, -8.35762135e-01,  2.21425152e+00, -2.96017227e-01,\n",
       "        1.26449023e-01, -6.87937387e-01,  1.86131560e+00,  1.88661465e+00,\n",
       "        1.63092918e+00,  9.56440348e-01, -6.24789547e-01,  8.27850096e-01,\n",
       "       -7.04279892e-03,  1.31240862e+00,  1.11590205e+00, -6.49265578e-01,\n",
       "        9.47825803e-01,  6.82034450e-01, -2.77356286e+00,  8.00936640e-01,\n",
       "       -4.31795789e-01, -8.86042454e-01, -8.43260604e-01, -1.35242896e-01,\n",
       "        4.80059580e-01, -1.36546202e+00,  1.89847836e-01,  5.76758066e-01,\n",
       "        1.86180578e+00, -1.07669017e+00, -3.49612187e-01,  2.61662973e-01,\n",
       "        1.14740933e+00, -3.04223881e-01,  1.19864137e+00, -1.93736232e+00,\n",
       "       -1.25334819e+00,  3.48644344e-01, -1.41082450e+00, -1.17447053e+00,\n",
       "       -5.27776864e-01,  7.71438992e-01, -1.89596484e+00,  1.70298362e-01,\n",
       "        1.03296395e+00, -1.94945208e-01, -3.68830230e-01,  4.01771283e-01,\n",
       "       -1.92111053e-01,  1.39049978e+00, -1.11141301e+00, -5.16441552e-02,\n",
       "        2.05686375e-01, -3.78454052e-01, -2.87128266e+00, -1.60904908e-01,\n",
       "        9.00176987e-01,  7.78109186e-01,  3.54778482e-01, -1.09786236e+00,\n",
       "        3.95309462e-01, -5.73437822e-01,  3.53482906e-01,  1.21505011e-01,\n",
       "       -9.76375271e-01, -8.92455839e-01,  3.55022454e-01, -2.21113095e-01,\n",
       "       -8.40281431e-01, -9.22830190e-01, -3.03830848e-01,  1.56810479e+00,\n",
       "       -5.26078032e-01, -1.40195383e-02,  1.01644288e-01, -1.13102639e+00,\n",
       "       -1.76283248e+00, -1.02664073e+00,  2.47077378e-01,  8.73310579e-02,\n",
       "        7.02406569e-01,  9.67498950e-02, -1.09549291e-01, -6.04012275e-01,\n",
       "        8.84606790e-01, -9.19180139e-01, -1.11039952e+00,  5.67055517e-01,\n",
       "       -1.33315731e+00,  2.41479100e+00,  7.99933806e-02,  3.47906116e-01,\n",
       "       -8.08419825e-01, -3.15264844e-01, -4.26757117e-01, -5.41834988e-01,\n",
       "        6.32961752e-01, -4.49576038e-01,  1.01750123e+00,  2.66318235e+00,\n",
       "       -2.95541240e-01,  1.52315514e-01,  3.79482057e-01,  1.81150481e+00,\n",
       "       -8.26477850e-02, -8.29016920e-01, -1.26634051e+00, -5.79839474e-02,\n",
       "       -4.48380219e-01,  2.01000929e+00,  1.76986242e+00, -1.03437283e+00,\n",
       "       -7.10760104e-01,  7.37701079e-02,  1.39722642e+00,  5.70131364e-02,\n",
       "       -6.47240638e-01, -5.88818099e-02, -6.28484864e-01,  6.02477209e-01,\n",
       "       -7.09033712e-01, -5.10436052e-01,  1.16193381e+00, -7.68364947e-01,\n",
       "       -1.44612803e+00,  9.49937514e-02, -3.60473404e-01,  5.11415501e-01,\n",
       "        3.17471935e-01, -3.19184946e-02, -6.10434255e-02, -7.35858449e-01,\n",
       "        8.33470710e-02,  8.81284781e-01, -9.73446741e-01, -5.39737636e-03,\n",
       "        1.03838876e+00,  5.05424093e-01,  1.30947290e+00, -5.68142330e-01,\n",
       "       -1.83076845e+00,  2.00651804e-01,  3.62570815e-01,  1.36842195e+00,\n",
       "        1.18814573e+00,  5.36743623e-01,  7.65390214e-01, -1.91821458e-01,\n",
       "       -1.21911461e+00,  1.17721217e-01,  9.82573464e-01,  6.56360870e-01,\n",
       "        8.33807339e-01, -4.27755687e-01, -2.65546838e-01,  4.83425488e-01,\n",
       "       -5.46507395e-01, -5.15717070e-01,  2.97982236e-01,  7.60904743e-01,\n",
       "       -1.99528673e-01, -1.16318946e+00, -7.35803915e-01,  2.03672085e-01,\n",
       "        1.91520964e-01,  2.41238138e-01,  5.21295291e-01,  5.81055854e-03,\n",
       "        2.65056045e-01, -4.50268228e-02,  1.14873348e+00,  1.43234203e+00,\n",
       "       -1.18901128e+00, -2.55251942e-01,  3.27244915e-02, -2.66914712e-01,\n",
       "        1.79292259e+00,  2.23955278e-01, -8.05371827e-01,  5.96442340e-01,\n",
       "        2.70974539e-01,  3.04192920e-01,  1.80787616e+00,  3.50785176e-01,\n",
       "       -3.03661524e-01, -1.95527643e+00, -1.65399018e-01,  1.30596992e+00,\n",
       "       -9.11691196e-02, -2.24004990e+00, -4.98362392e-01,  9.92688539e-01,\n",
       "        5.45817175e-01, -8.39880897e-01, -5.65284776e-01, -4.10708659e-01,\n",
       "       -6.62713772e-01, -2.02967387e+00,  7.63591101e-01,  1.25705996e+00,\n",
       "       -1.51844894e+00,  1.24385293e+00, -1.03023201e-01,  1.22513235e+00,\n",
       "        3.79504363e-02,  1.35544592e-01,  3.72434647e-01, -7.90066325e-01,\n",
       "        1.19467414e+00, -1.12138064e+00, -4.02066745e-01,  5.24264678e-01,\n",
       "       -5.09195240e-01,  7.77531241e-01,  1.37586617e+00,  1.01254600e+00,\n",
       "       -1.93611531e+00,  1.25846970e-01,  1.02868261e+00, -1.31674885e+00,\n",
       "        7.23610587e-01,  6.67460782e-01, -1.21208989e+00,  8.34232666e-01,\n",
       "        2.72697794e-01,  6.50381789e-01, -9.66312386e-01,  1.50136116e-01,\n",
       "       -1.70487855e+00, -2.27699121e+00,  1.40828427e-01,  1.10059761e+00,\n",
       "        2.52936814e-01, -6.34460639e-02, -1.87534120e-01, -9.42565391e-01,\n",
       "       -2.21860904e-01,  4.21684468e-01, -4.35222233e-01,  7.50586854e-01,\n",
       "        1.95975034e-01,  3.16979418e-01,  8.88662754e-01, -5.26755433e-01,\n",
       "        6.59380586e-01, -3.86476717e-01,  3.39514484e-01, -6.45771351e-01,\n",
       "       -9.10703823e-01,  9.18647456e-02, -1.88520005e+00, -2.96267444e-01,\n",
       "       -1.60637701e+00,  7.79234034e-01,  1.05011060e+00, -8.63951221e-01,\n",
       "        4.28312962e-01,  8.99135714e-01,  9.02469223e-01,  2.14450834e-01,\n",
       "        7.34304676e-01, -6.49331312e-01,  8.31224657e-02, -4.67103407e-01,\n",
       "       -7.33787974e-01,  3.60633915e-02,  3.47530376e-01,  1.16350877e+00,\n",
       "        2.65155527e-01,  6.41930535e-01,  6.53283173e-01,  2.68753437e+00,\n",
       "       -1.81003240e+00, -6.87933867e-01,  1.47405605e+00, -3.52013075e-01,\n",
       "        8.85803138e-01,  2.30009524e-01,  2.10520240e+00, -1.11305443e+00,\n",
       "        1.22180055e+00,  1.74958131e+00, -1.01441888e+00,  7.82870244e-01,\n",
       "       -9.65497986e-01,  3.01615725e-02, -2.56587930e-01, -2.40275393e+00,\n",
       "        4.24234260e-01,  1.43339168e-01,  1.47907897e+00,  6.11143655e-01,\n",
       "        2.29088392e+00,  1.07042382e-01, -1.05530052e-01, -1.84356651e-01,\n",
       "       -4.39588711e-01, -2.20775092e+00, -2.20194627e-01, -2.06785473e+00,\n",
       "        4.52033345e-01, -1.24006029e+00, -8.94332623e-01, -6.69410195e-01,\n",
       "       -2.04935038e-01,  6.86825494e-03,  1.08447958e+00, -5.77530094e-01,\n",
       "        4.80146136e-01,  2.73086723e+00,  3.77350703e-01, -1.80489789e-01,\n",
       "       -7.79151652e-01, -1.94331545e-01, -8.86220344e-01,  2.68661427e-01,\n",
       "        1.03544139e-01, -2.16221922e+00, -1.85580058e-02,  1.07614631e+00,\n",
       "       -3.99111852e-01, -6.52896772e-01, -1.37770077e+00, -1.85799204e+00,\n",
       "        8.31349267e-01, -1.81478330e-01,  7.72021562e-01,  1.53132374e+00,\n",
       "        9.21247685e-01, -5.42372321e-01,  1.44867665e-01, -6.14772865e-01,\n",
       "       -7.08288463e-01,  3.42815162e-01, -8.32293883e-01, -2.20915162e+00,\n",
       "       -8.88147896e-01, -3.06881149e-01,  1.52139850e+00, -4.90937450e-01,\n",
       "        5.11924091e-01, -1.68308234e-01,  1.22640514e+00,  1.15709639e+00,\n",
       "        1.17617511e+00, -1.73398353e+00,  2.06724047e-01,  7.58938600e-01,\n",
       "        3.81538563e-01,  6.36596326e-01,  5.83510043e-02, -7.44784207e-01,\n",
       "       -1.69709738e+00, -6.45569429e-01,  2.67810987e+00, -4.85651176e-01,\n",
       "       -1.95939023e+00,  7.32649361e-01,  8.55460009e-01,  1.28732439e+00,\n",
       "        4.70978504e-01,  8.45601514e-01,  1.84021713e+00, -7.45473492e-01,\n",
       "       -9.43850705e-01, -1.09458654e+00, -2.65769586e-01,  1.43342242e+00,\n",
       "        5.28068368e-01,  4.88691953e-01, -1.81930793e+00, -6.93186827e-01,\n",
       "       -1.83565763e+00,  1.17124579e+00,  1.58564649e+00,  7.79566727e-01,\n",
       "       -9.86786046e-01,  1.48202249e+00, -2.53254910e-01, -1.21445928e+00,\n",
       "       -9.64404255e-01, -4.30156636e-01,  4.95785205e-02, -1.61344212e-01,\n",
       "       -1.41266842e+00,  1.21331641e+00, -1.50605919e-01, -7.13753856e-01,\n",
       "        1.11030236e+00, -1.18340619e+00, -1.62889018e+00,  1.27248745e+00,\n",
       "        1.89138785e+00, -4.62096019e-01, -4.59700079e-02, -1.14666471e+00,\n",
       "        5.49255024e-03, -4.75705264e-01, -1.02128440e-01,  4.09258388e-01,\n",
       "       -1.09814548e+00, -3.61811339e-01, -1.80378142e+00, -3.54987284e-01,\n",
       "       -9.34340709e-02,  2.28982425e-01,  2.39576540e-01,  9.03922751e-01,\n",
       "       -1.53966652e+00, -1.48627703e+00,  5.28957936e-01, -2.03896128e+00,\n",
       "        1.83300212e-01, -1.18029294e+00,  1.57281464e+00,  2.50452408e-01,\n",
       "       -2.19156020e-01,  1.22772088e+00, -1.06340201e+00, -8.73409634e-01,\n",
       "       -1.26145483e+00, -8.65039226e-01,  6.11156094e-02,  4.93951872e-01,\n",
       "        9.61421685e-01, -1.82472405e+00, -1.71862986e-01, -1.10816453e+00,\n",
       "       -2.05287091e-01,  2.33416358e+00,  2.91861762e-01,  8.99464971e-01,\n",
       "        1.96069127e+00,  1.12735824e+00, -4.47914480e-01, -1.27583209e+00,\n",
       "       -3.01442695e-02, -5.67705784e-01, -1.52452129e+00,  2.40924997e-01,\n",
       "        2.65886298e-01,  1.76911670e+00, -3.61763069e-01,  2.80121389e-01,\n",
       "       -6.65485415e-01,  8.73169431e-01, -1.24617796e-01, -1.17259161e+00,\n",
       "       -1.34718217e-02,  3.90522898e-01,  2.55273387e-01,  1.04589672e+00,\n",
       "       -1.44805637e+00, -8.42742590e-01,  6.39787332e-01, -7.25268978e-01,\n",
       "        2.40471249e-01, -2.41974525e+00,  2.71594657e+00, -2.69718532e-01,\n",
       "        1.19395626e+00, -3.36897826e-01,  4.14698529e-01,  1.49191965e+00,\n",
       "        1.16580602e+00, -2.04454980e-01, -1.35254325e-01,  1.00356656e+00,\n",
       "        2.33324440e+00,  1.92282674e-01,  1.95706364e+00, -2.41414410e-01,\n",
       "        9.51960364e-01,  1.10115576e+00, -4.09960504e-01, -7.47078079e-01,\n",
       "        1.14538919e+00, -5.31556937e-01, -8.94349913e-01, -6.83959502e-01,\n",
       "       -5.35613338e-01,  8.56617105e-01,  5.15042673e-01,  7.15658245e-01,\n",
       "        4.21379811e-01, -5.93840162e-01,  6.97102856e-01,  1.18245383e+00,\n",
       "        5.84503216e-01,  4.49655907e-01, -7.67054507e-01,  2.11817079e-01,\n",
       "       -8.20241329e-01, -2.40278581e-02, -1.64026664e+00, -1.63255840e+00,\n",
       "       -1.91047690e-01, -5.48439672e-01,  1.06787193e-01, -1.34768579e-01,\n",
       "        3.01907872e-02,  6.08607442e-01, -4.63268956e-01, -2.19443812e-01,\n",
       "        1.45502122e+00,  3.08412683e-03, -1.79210475e-01,  8.25126993e-02,\n",
       "       -1.61364373e-01, -7.09572293e-01, -9.98029837e-01, -7.63431340e-01,\n",
       "        8.72919187e-01, -6.29905255e-01, -1.54924602e-01,  7.00736285e-01,\n",
       "       -2.78391171e-01,  6.33361315e-01, -1.54079304e+00, -1.32516680e-01,\n",
       "        7.88960966e-02,  2.31387231e-02, -1.65291870e+00,  1.20311265e+00,\n",
       "       -8.54672945e-01,  3.35037125e-01,  7.96428265e-03,  1.00370952e+00,\n",
       "        2.18748883e+00, -1.29036448e+00, -6.48913881e-01,  1.89092494e-01,\n",
       "       -1.10535332e+00,  7.82182608e-01,  8.43372622e-01,  5.59449076e-01,\n",
       "        2.36581751e-01,  1.36970878e+00, -1.15562548e+00,  6.52681953e-02,\n",
       "       -7.38802869e-01,  8.89916333e-01, -1.83334116e+00, -2.80838656e-02,\n",
       "        3.35238687e-01, -9.47492135e-01, -6.26190032e-01,  1.53789814e-02,\n",
       "        9.55096379e-01, -1.03286923e+00, -8.58449940e-01,  1.12558777e+00,\n",
       "       -2.72975400e-01, -7.77539040e-01,  7.28684797e-01, -4.88196997e-01,\n",
       "        1.02742154e+00, -6.63720377e-01, -1.59594562e-01,  9.44971665e-01,\n",
       "       -2.26260871e-01,  7.56053322e-01, -6.55476068e-02,  1.98169181e+00,\n",
       "        1.56877860e+00, -1.32809626e+00,  5.22243681e-01, -8.16403986e-01,\n",
       "        1.91506939e-01,  6.83706293e-02, -1.05538702e+00,  1.05848454e+00,\n",
       "        2.03302944e-01, -2.84683036e-01, -4.38109824e-01,  1.39776970e-01,\n",
       "        4.07925018e-01, -1.24975786e-01, -2.83251957e+00,  1.68907162e-02,\n",
       "       -1.44148206e+00, -2.09452566e-01, -1.40456426e+00, -1.41649764e+00,\n",
       "        1.23512182e+00, -3.20091981e-01, -3.96662160e-01,  4.82524049e-01,\n",
       "       -3.70590523e-01,  2.10380609e+00, -2.73019761e-01,  3.65125412e-01,\n",
       "        9.70941331e-01,  1.60225323e+00, -7.42006136e-01, -4.17963504e-01,\n",
       "        1.27459188e+00,  8.10062304e-01,  1.07517594e+00, -1.36870454e+00,\n",
       "        1.54799975e+00, -7.61407543e-01,  1.92292978e-01, -1.48222878e-01,\n",
       "       -8.78482837e-01, -1.41253576e+00, -1.74384812e+00,  1.19018406e-01,\n",
       "       -1.52531909e+00, -1.13381560e+00, -2.18035878e-01, -2.63880850e+00,\n",
       "        7.78979712e-01, -2.40988817e+00, -7.73723913e-02,  1.50192266e-02,\n",
       "        5.38061720e-01, -4.16808024e-02,  2.01790796e+00,  2.16316882e-01,\n",
       "        1.05361240e+00, -7.23462809e-01,  1.20756806e-01,  1.54757010e+00])"
      ]
     },
     "execution_count": 79,
     "metadata": {},
     "output_type": "execute_result"
    }
   ],
   "source": [
    "# Create an array of normally distributed random numbers\n",
    "mean = 0\n",
    "std_dev = 1\n",
    "array_size = 1000  # You can change this to any number\n",
    "\n",
    "# Generate normally distributed random numbers\n",
    "random_numbers = np.random.normal(loc=mean, scale=std_dev, size=array_size)\n",
    "random_numbers"
   ]
  },
  {
   "cell_type": "code",
   "execution_count": 85,
   "metadata": {},
   "outputs": [
    {
     "data": {
      "text/plain": [
       "array([  1.,  12.,  23.,  34.,  45.,  56.,  67.,  78.,  89., 100.])"
      ]
     },
     "execution_count": 85,
     "metadata": {},
     "output_type": "execute_result"
    }
   ],
   "source": [
    "# Create an array with 10 evenly spaced numbers between 1 and 100\n",
    "a21= np.linspace(1,100,10)\n",
    "a21"
   ]
  },
  {
   "cell_type": "markdown",
   "metadata": {},
   "source": [
    "## Extensions\n",
    "\n",
    "For more exercises, check out the [NumPy quickstart tutorial](https://numpy.org/doc/stable/user/quickstart.html). A good practice would be to read through it and for the parts you find interesting, add them into the end of this notebook.\n",
    "\n",
    "Pay particular attention to the section on broadcasting. And most importantly, get hands-on with the code as much as possible. If in dobut, run the code, see what it does.\n",
    "\n",
    "The next place you could go is the [Stack Overflow page for the top questions and answers for NumPy](https://stackoverflow.com/questions/tagged/numpy?sort=MostVotes&edited=true). Often, you'll find some of the most common and useful NumPy functions here. Don't forget to play around with the filters! You'll likely find something helpful here.\n",
    "\n",
    "Finally, as always, remember, the best way to learn something new is to try it. And try it relentlessly. If you get interested in some kind of NumPy function, asking yourself, \"I wonder if NumPy could do that?\", go and find out."
   ]
  }
 ],
 "metadata": {
  "kernelspec": {
   "display_name": "Python 3 (ipykernel)",
   "language": "python",
   "name": "python3"
  },
  "language_info": {
   "codemirror_mode": {
    "name": "ipython",
    "version": 3
   },
   "file_extension": ".py",
   "mimetype": "text/x-python",
   "name": "python",
   "nbconvert_exporter": "python",
   "pygments_lexer": "ipython3",
   "version": "3.11.3"
  }
 },
 "nbformat": 4,
 "nbformat_minor": 2
}
