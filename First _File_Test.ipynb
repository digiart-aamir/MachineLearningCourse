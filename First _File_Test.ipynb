{
 "cells": [
  {
   "cell_type": "markdown",
   "id": "38537ea3",
   "metadata": {},
   "source": [
    "# First File\n",
    "### This is first file, just for testing purpuse\n",
    "\n",
    "this is paragraph"
   ]
  },
  {
   "cell_type": "markdown",
   "id": "cdcee9b9",
   "metadata": {},
   "source": [
    "![ml](ML.png)\n"
   ]
  },
  {
   "cell_type": "code",
   "execution_count": 2,
   "id": "697159ed",
   "metadata": {},
   "outputs": [],
   "source": [
    "a= 10\n",
    "b=20\n",
    "c=30"
   ]
  },
  {
   "cell_type": "code",
   "execution_count": 5,
   "id": "39750a0d",
   "metadata": {},
   "outputs": [
    {
     "data": {
      "text/plain": [
       "60"
      ]
     },
     "execution_count": 5,
     "metadata": {},
     "output_type": "execute_result"
    }
   ],
   "source": [
    "a+b+c"
   ]
  },
  {
   "cell_type": "code",
   "execution_count": 6,
   "id": "cc85b389",
   "metadata": {},
   "outputs": [],
   "source": [
    "def sum(a,b,c):\n",
    "    return a+b+c"
   ]
  },
  {
   "cell_type": "code",
   "execution_count": 8,
   "id": "0b537356",
   "metadata": {},
   "outputs": [
    {
     "data": {
      "text/plain": [
       "60"
      ]
     },
     "execution_count": 8,
     "metadata": {},
     "output_type": "execute_result"
    }
   ],
   "source": [
    "sum(a,b,c)"
   ]
  },
  {
   "cell_type": "code",
   "execution_count": 14,
   "id": "3874786a",
   "metadata": {},
   "outputs": [
    {
     "name": "stdout",
     "output_type": "stream",
     "text": [
      "10\n",
      "11\n",
      "12\n",
      "13\n",
      "14\n",
      "15\n",
      "16\n",
      "17\n",
      "18\n",
      "19\n"
     ]
    }
   ],
   "source": [
    "for i in range(a,b):\n",
    "    print(i)"
   ]
  },
  {
   "cell_type": "code",
   "execution_count": 20,
   "id": "790adc53",
   "metadata": {},
   "outputs": [],
   "source": [
    "import numpy as np\n",
    "import pandas as pd"
   ]
  },
  {
   "cell_type": "markdown",
   "id": "fff89a6e",
   "metadata": {},
   "source": [
    "![second image](ML.png)"
   ]
  },
  {
   "cell_type": "markdown",
   "id": "05b16637",
   "metadata": {},
   "source": [
    "![dp](dp.JPG)"
   ]
  },
  {
   "cell_type": "markdown",
   "id": "059a3cc0",
   "metadata": {},
   "source": [
    "\\[ E = mc^2 \\]\n",
    "\n",
    "Inline math: \\( E = mc^2 \\)\n"
   ]
  },
  {
   "cell_type": "markdown",
   "id": "c4b07050",
   "metadata": {},
   "source": [
    "- [x] Task 1\n",
    "- [ ] Task 2\n",
    "- [ ] Task 3\n"
   ]
  },
  {
   "cell_type": "code",
   "execution_count": null,
   "id": "4cc16d8a",
   "metadata": {},
   "outputs": [],
   "source": []
  }
 ],
 "metadata": {
  "kernelspec": {
   "display_name": "Python 3 (ipykernel)",
   "language": "python",
   "name": "python3"
  },
  "language_info": {
   "codemirror_mode": {
    "name": "ipython",
    "version": 3
   },
   "file_extension": ".py",
   "mimetype": "text/x-python",
   "name": "python",
   "nbconvert_exporter": "python",
   "pygments_lexer": "ipython3",
   "version": "3.11.3"
  }
 },
 "nbformat": 4,
 "nbformat_minor": 5
}
